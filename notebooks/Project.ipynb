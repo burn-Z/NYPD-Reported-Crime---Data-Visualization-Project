{
 "cells": [
  {
   "cell_type": "code",
   "execution_count": 1,
   "id": "394f2629",
   "metadata": {},
   "outputs": [],
   "source": [
    "import pandas as pd"
   ]
  },
  {
   "cell_type": "code",
   "execution_count": 2,
   "id": "3e799ca3",
   "metadata": {},
   "outputs": [],
   "source": [
    "df = pd.read_csv('NYPD_Complaint_Data_Historic.csv', low_memory=False, nrows=1000)"
   ]
  },
  {
   "cell_type": "code",
   "execution_count": 3,
   "id": "2ff8c6f9",
   "metadata": {},
   "outputs": [
    {
     "data": {
      "text/html": [
       "<div>\n",
       "<style scoped>\n",
       "    .dataframe tbody tr th:only-of-type {\n",
       "        vertical-align: middle;\n",
       "    }\n",
       "\n",
       "    .dataframe tbody tr th {\n",
       "        vertical-align: top;\n",
       "    }\n",
       "\n",
       "    .dataframe thead th {\n",
       "        text-align: right;\n",
       "    }\n",
       "</style>\n",
       "<table border=\"1\" class=\"dataframe\">\n",
       "  <thead>\n",
       "    <tr style=\"text-align: right;\">\n",
       "      <th></th>\n",
       "      <th>CMPLNT_NUM</th>\n",
       "      <th>CMPLNT_FR_DT</th>\n",
       "      <th>CMPLNT_FR_TM</th>\n",
       "      <th>CMPLNT_TO_DT</th>\n",
       "      <th>CMPLNT_TO_TM</th>\n",
       "      <th>ADDR_PCT_CD</th>\n",
       "      <th>RPT_DT</th>\n",
       "      <th>KY_CD</th>\n",
       "      <th>OFNS_DESC</th>\n",
       "      <th>PD_CD</th>\n",
       "      <th>...</th>\n",
       "      <th>SUSP_SEX</th>\n",
       "      <th>TRANSIT_DISTRICT</th>\n",
       "      <th>Latitude</th>\n",
       "      <th>Longitude</th>\n",
       "      <th>Lat_Lon</th>\n",
       "      <th>PATROL_BORO</th>\n",
       "      <th>STATION_NAME</th>\n",
       "      <th>VIC_AGE_GROUP</th>\n",
       "      <th>VIC_RACE</th>\n",
       "      <th>VIC_SEX</th>\n",
       "    </tr>\n",
       "  </thead>\n",
       "  <tbody>\n",
       "    <tr>\n",
       "      <th>0</th>\n",
       "      <td>506547392</td>\n",
       "      <td>03/29/2018</td>\n",
       "      <td>20:30:00</td>\n",
       "      <td>NaN</td>\n",
       "      <td>NaN</td>\n",
       "      <td>32</td>\n",
       "      <td>03/30/2018</td>\n",
       "      <td>351</td>\n",
       "      <td>CRIMINAL MISCHIEF &amp; RELATED OF</td>\n",
       "      <td>254</td>\n",
       "      <td>...</td>\n",
       "      <td>NaN</td>\n",
       "      <td>NaN</td>\n",
       "      <td>40.810877</td>\n",
       "      <td>-73.941064</td>\n",
       "      <td>(40.810877241, -73.941064151)</td>\n",
       "      <td>PATROL BORO MAN NORTH</td>\n",
       "      <td>NaN</td>\n",
       "      <td>25-44</td>\n",
       "      <td>WHITE</td>\n",
       "      <td>F</td>\n",
       "    </tr>\n",
       "    <tr>\n",
       "      <th>1</th>\n",
       "      <td>629632833</td>\n",
       "      <td>02/06/2018</td>\n",
       "      <td>23:15:00</td>\n",
       "      <td>NaN</td>\n",
       "      <td>NaN</td>\n",
       "      <td>52</td>\n",
       "      <td>02/07/2018</td>\n",
       "      <td>341</td>\n",
       "      <td>PETIT LARCENY</td>\n",
       "      <td>333</td>\n",
       "      <td>...</td>\n",
       "      <td>F</td>\n",
       "      <td>NaN</td>\n",
       "      <td>40.873671</td>\n",
       "      <td>-73.908014</td>\n",
       "      <td>(40.873671035, -73.908013649)</td>\n",
       "      <td>PATROL BORO BRONX</td>\n",
       "      <td>NaN</td>\n",
       "      <td>UNKNOWN</td>\n",
       "      <td>UNKNOWN</td>\n",
       "      <td>D</td>\n",
       "    </tr>\n",
       "    <tr>\n",
       "      <th>2</th>\n",
       "      <td>787203902</td>\n",
       "      <td>11/21/2018</td>\n",
       "      <td>00:15:00</td>\n",
       "      <td>11/21/2018</td>\n",
       "      <td>00:20:00</td>\n",
       "      <td>75</td>\n",
       "      <td>11/21/2018</td>\n",
       "      <td>341</td>\n",
       "      <td>PETIT LARCENY</td>\n",
       "      <td>321</td>\n",
       "      <td>...</td>\n",
       "      <td>F</td>\n",
       "      <td>NaN</td>\n",
       "      <td>40.651782</td>\n",
       "      <td>-73.885457</td>\n",
       "      <td>(40.651782232, -73.885456761)</td>\n",
       "      <td>PATROL BORO BKLYN NORTH</td>\n",
       "      <td>NaN</td>\n",
       "      <td>UNKNOWN</td>\n",
       "      <td>UNKNOWN</td>\n",
       "      <td>D</td>\n",
       "    </tr>\n",
       "    <tr>\n",
       "      <th>3</th>\n",
       "      <td>280364018</td>\n",
       "      <td>06/09/2018</td>\n",
       "      <td>21:42:00</td>\n",
       "      <td>06/09/2018</td>\n",
       "      <td>21:43:00</td>\n",
       "      <td>10</td>\n",
       "      <td>06/10/2018</td>\n",
       "      <td>361</td>\n",
       "      <td>OFF. AGNST PUB ORD SENSBLTY &amp;</td>\n",
       "      <td>639</td>\n",
       "      <td>...</td>\n",
       "      <td>M</td>\n",
       "      <td>NaN</td>\n",
       "      <td>40.759310</td>\n",
       "      <td>-73.994706</td>\n",
       "      <td>(40.759310399, -73.994706072)</td>\n",
       "      <td>PATROL BORO MAN SOUTH</td>\n",
       "      <td>NaN</td>\n",
       "      <td>18-24</td>\n",
       "      <td>WHITE HISPANIC</td>\n",
       "      <td>F</td>\n",
       "    </tr>\n",
       "    <tr>\n",
       "      <th>4</th>\n",
       "      <td>985800320</td>\n",
       "      <td>11/10/2018</td>\n",
       "      <td>19:40:00</td>\n",
       "      <td>11/10/2018</td>\n",
       "      <td>19:45:00</td>\n",
       "      <td>19</td>\n",
       "      <td>11/10/2018</td>\n",
       "      <td>341</td>\n",
       "      <td>PETIT LARCENY</td>\n",
       "      <td>333</td>\n",
       "      <td>...</td>\n",
       "      <td>F</td>\n",
       "      <td>NaN</td>\n",
       "      <td>40.764536</td>\n",
       "      <td>-73.970728</td>\n",
       "      <td>(40.764535539, -73.970728388)</td>\n",
       "      <td>PATROL BORO MAN NORTH</td>\n",
       "      <td>NaN</td>\n",
       "      <td>UNKNOWN</td>\n",
       "      <td>UNKNOWN</td>\n",
       "      <td>D</td>\n",
       "    </tr>\n",
       "  </tbody>\n",
       "</table>\n",
       "<p>5 rows × 35 columns</p>\n",
       "</div>"
      ],
      "text/plain": [
       "   CMPLNT_NUM CMPLNT_FR_DT CMPLNT_FR_TM CMPLNT_TO_DT CMPLNT_TO_TM  \\\n",
       "0   506547392   03/29/2018     20:30:00          NaN          NaN   \n",
       "1   629632833   02/06/2018     23:15:00          NaN          NaN   \n",
       "2   787203902   11/21/2018     00:15:00   11/21/2018     00:20:00   \n",
       "3   280364018   06/09/2018     21:42:00   06/09/2018     21:43:00   \n",
       "4   985800320   11/10/2018     19:40:00   11/10/2018     19:45:00   \n",
       "\n",
       "   ADDR_PCT_CD      RPT_DT  KY_CD                       OFNS_DESC  PD_CD  ...  \\\n",
       "0           32  03/30/2018    351  CRIMINAL MISCHIEF & RELATED OF    254  ...   \n",
       "1           52  02/07/2018    341                   PETIT LARCENY    333  ...   \n",
       "2           75  11/21/2018    341                   PETIT LARCENY    321  ...   \n",
       "3           10  06/10/2018    361   OFF. AGNST PUB ORD SENSBLTY &    639  ...   \n",
       "4           19  11/10/2018    341                   PETIT LARCENY    333  ...   \n",
       "\n",
       "  SUSP_SEX TRANSIT_DISTRICT   Latitude  Longitude  \\\n",
       "0      NaN              NaN  40.810877 -73.941064   \n",
       "1        F              NaN  40.873671 -73.908014   \n",
       "2        F              NaN  40.651782 -73.885457   \n",
       "3        M              NaN  40.759310 -73.994706   \n",
       "4        F              NaN  40.764536 -73.970728   \n",
       "\n",
       "                         Lat_Lon              PATROL_BORO STATION_NAME  \\\n",
       "0  (40.810877241, -73.941064151)    PATROL BORO MAN NORTH          NaN   \n",
       "1  (40.873671035, -73.908013649)        PATROL BORO BRONX          NaN   \n",
       "2  (40.651782232, -73.885456761)  PATROL BORO BKLYN NORTH          NaN   \n",
       "3  (40.759310399, -73.994706072)    PATROL BORO MAN SOUTH          NaN   \n",
       "4  (40.764535539, -73.970728388)    PATROL BORO MAN NORTH          NaN   \n",
       "\n",
       "   VIC_AGE_GROUP        VIC_RACE VIC_SEX  \n",
       "0          25-44           WHITE       F  \n",
       "1        UNKNOWN         UNKNOWN       D  \n",
       "2        UNKNOWN         UNKNOWN       D  \n",
       "3          18-24  WHITE HISPANIC       F  \n",
       "4        UNKNOWN         UNKNOWN       D  \n",
       "\n",
       "[5 rows x 35 columns]"
      ]
     },
     "execution_count": 3,
     "metadata": {},
     "output_type": "execute_result"
    }
   ],
   "source": [
    "df.head()"
   ]
  },
  {
   "cell_type": "code",
   "execution_count": 4,
   "id": "9689b71e",
   "metadata": {},
   "outputs": [
    {
     "data": {
      "text/plain": [
       "CMPLNT_NUM             0\n",
       "CMPLNT_FR_DT           0\n",
       "CMPLNT_FR_TM           0\n",
       "CMPLNT_TO_DT         138\n",
       "CMPLNT_TO_TM         140\n",
       "ADDR_PCT_CD            0\n",
       "RPT_DT                 0\n",
       "KY_CD                  0\n",
       "OFNS_DESC              1\n",
       "PD_CD                  0\n",
       "PD_DESC                0\n",
       "CRM_ATPT_CPTD_CD       0\n",
       "LAW_CAT_CD             0\n",
       "BORO_NM                0\n",
       "LOC_OF_OCCUR_DESC    188\n",
       "PREM_TYP_DESC          3\n",
       "JURIS_DESC             0\n",
       "JURISDICTION_CODE      0\n",
       "PARKS_NM             989\n",
       "HADEVELOPT           962\n",
       "HOUSING_PSA          938\n",
       "X_COORD_CD             0\n",
       "Y_COORD_CD             0\n",
       "SUSP_AGE_GROUP       261\n",
       "SUSP_RACE            261\n",
       "SUSP_SEX             261\n",
       "TRANSIT_DISTRICT     964\n",
       "Latitude               0\n",
       "Longitude              0\n",
       "Lat_Lon                0\n",
       "PATROL_BORO            0\n",
       "STATION_NAME         964\n",
       "VIC_AGE_GROUP          6\n",
       "VIC_RACE               0\n",
       "VIC_SEX                0\n",
       "dtype: int64"
      ]
     },
     "execution_count": 4,
     "metadata": {},
     "output_type": "execute_result"
    }
   ],
   "source": [
    "df.isnull().sum()"
   ]
  },
  {
   "cell_type": "code",
   "execution_count": 5,
   "id": "068e7689",
   "metadata": {},
   "outputs": [
    {
     "data": {
      "text/plain": [
       "0"
      ]
     },
     "execution_count": 5,
     "metadata": {},
     "output_type": "execute_result"
    }
   ],
   "source": [
    "df.duplicated().sum()"
   ]
  },
  {
   "cell_type": "code",
   "execution_count": 25,
   "id": "7789571a",
   "metadata": {},
   "outputs": [
    {
     "name": "stdout",
     "output_type": "stream",
     "text": [
      "The most crime committed is PETIT LARCENY\n",
      "The least crime committed is OFFENSES AGAINST THE PERSON\n"
     ]
    }
   ],
   "source": [
    "crime_min = df['OFNS_DESC'].value_counts().idxmin()\n",
    "crime_max = df['OFNS_DESC'].value_counts().idxmax()\n",
    "print(\"The most crime committed is\", crime_max)\n",
    "print(\"The least crime committed is\", crime_min)"
   ]
  },
  {
   "cell_type": "code",
   "execution_count": 26,
   "id": "c99949e1",
   "metadata": {},
   "outputs": [
    {
     "name": "stdout",
     "output_type": "stream",
     "text": [
      "The station with most crime committed is 125 STREET\n",
      "The station with least crime committed is 50 STREET\n"
     ]
    }
   ],
   "source": [
    "station_min = df['STATION_NAME'].value_counts().idxmin()\n",
    "station_max = df['STATION_NAME'].value_counts().idxmax()\n",
    "print(\"The station with most crime committed is\", station_max)\n",
    "print(\"The station with least crime committed is\", station_min)"
   ]
  },
  {
   "cell_type": "code",
   "execution_count": 27,
   "id": "28659c97",
   "metadata": {},
   "outputs": [
    {
     "data": {
      "text/plain": [
       "'PATROL BORO STATEN ISLAND'"
      ]
     },
     "execution_count": 27,
     "metadata": {},
     "output_type": "execute_result"
    }
   ],
   "source": [
    "#PATROL_BORO\n",
    "df['PATROL_BORO'].value_counts().idxmin()"
   ]
  },
  {
   "cell_type": "code",
   "execution_count": 28,
   "id": "e02027a7",
   "metadata": {},
   "outputs": [
    {
     "data": {
      "text/plain": [
       "'PATROL BORO BRONX'"
      ]
     },
     "execution_count": 28,
     "metadata": {},
     "output_type": "execute_result"
    }
   ],
   "source": [
    "df['PATROL_BORO'].value_counts().idxmax()"
   ]
  },
  {
   "cell_type": "code",
   "execution_count": 30,
   "id": "7f71ab3c",
   "metadata": {},
   "outputs": [
    {
     "data": {
      "text/plain": [
       "125 STREET                       4\n",
       "14 STREET                        2\n",
       "116 STREET                       2\n",
       "145 STREET                       2\n",
       "50 STREET                        1\n",
       "161 ST.-YANKEE STADIUM           1\n",
       "47-50 STS./ROCKEFELLER CTR.      1\n",
       "QUEENSBORO PLAZA                 1\n",
       "STILLWELL AVENUE-CONEY ISLAND    1\n",
       "34 ST.-PENN STATION              1\n",
       "3 AVENUE-149 STREET              1\n",
       "SOUTH FERRY                      1\n",
       "WINTHROP STREET                  1\n",
       "KINGS HIGHWAY                    1\n",
       "LAFAYETTE AVENUE                 1\n",
       "53 STREET                        1\n",
       "28 STREET                        1\n",
       "BEACH 105 STREET                 1\n",
       "BOWERY                           1\n",
       "UNION SQUARE                     1\n",
       "167 STREET                       1\n",
       "5 AVENUE                         1\n",
       "42 ST.-GRAND CENTRAL             1\n",
       "86 STREET                        1\n",
       "181 STREET                       1\n",
       "TREMONT AVENUE                   1\n",
       "LEXINGTON AVE.                   1\n",
       "CANAL STREET                     1\n",
       "UTICA AVE.-CROWN HEIGHTS         1\n",
       "59 ST.-COLUMBUS CIRCLE           1\n",
       "Name: STATION_NAME, dtype: int64"
      ]
     },
     "execution_count": 30,
     "metadata": {},
     "output_type": "execute_result"
    }
   ],
   "source": [
    "df['STATION_NAME'].value_counts()"
   ]
  },
  {
   "cell_type": "code",
   "execution_count": 31,
   "id": "bda3ff09",
   "metadata": {},
   "outputs": [
    {
     "data": {
      "text/plain": [
       "PATROL BORO BRONX            224\n",
       "PATROL BORO BKLYN SOUTH      156\n",
       "PATROL BORO MAN NORTH        143\n",
       "PATROL BORO BKLYN NORTH      133\n",
       "PATROL BORO MAN SOUTH        125\n",
       "PATROL BORO QUEENS NORTH     104\n",
       "PATROL BORO QUEENS SOUTH      86\n",
       "PATROL BORO STATEN ISLAND     29\n",
       "Name: PATROL_BORO, dtype: int64"
      ]
     },
     "execution_count": 31,
     "metadata": {},
     "output_type": "execute_result"
    }
   ],
   "source": [
    "df['PATROL_BORO'].value_counts()"
   ]
  },
  {
   "cell_type": "code",
   "execution_count": 32,
   "id": "c367bfb1",
   "metadata": {},
   "outputs": [
    {
     "data": {
      "text/plain": [
       "PETIT LARCENY                     200\n",
       "HARRASSMENT 2                     133\n",
       "ASSAULT 3 & RELATED OFFENSES      118\n",
       "CRIMINAL MISCHIEF & RELATED OF     99\n",
       "GRAND LARCENY                      91\n",
       "FELONY ASSAULT                     45\n",
       "OFF. AGNST PUB ORD SENSBLTY &      39\n",
       "DANGEROUS DRUGS                    31\n",
       "ROBBERY                            26\n",
       "MISCELLANEOUS PENAL LAW            26\n",
       "OFFENSES AGAINST PUBLIC ADMINI     24\n",
       "DANGEROUS WEAPONS                  20\n",
       "BURGLARY                           19\n",
       "SEX CRIMES                         19\n",
       "FORGERY                            16\n",
       "VEHICLE AND TRAFFIC LAWS           15\n",
       "GRAND LARCENY OF MOTOR VEHICLE     13\n",
       "CRIMINAL TRESPASS                  11\n",
       "INTOXICATED & IMPAIRED DRIVING      8\n",
       "RAPE                                8\n",
       "THEFT-FRAUD                         6\n",
       "POSSESSION OF STOLEN PROPERTY       6\n",
       "UNAUTHORIZED USE OF A VEHICLE       4\n",
       "ARSON                               3\n",
       "OFFENSES INVOLVING FRAUD            3\n",
       "FRAUDS                              3\n",
       "NYS LAWS-UNCLASSIFIED FELONY        2\n",
       "OTHER OFFENSES RELATED TO THEF      2\n",
       "ADMINISTRATIVE CODE                 2\n",
       "OFFENSES AGAINST THE PERSON         1\n",
       "OTHER STATE LAWS (NON PENAL LA      1\n",
       "OFFENSES AGAINST PUBLIC SAFETY      1\n",
       "DISORDERLY CONDUCT                  1\n",
       "ANTICIPATORY OFFENSES               1\n",
       "JOSTLING                            1\n",
       "KIDNAPPING & RELATED OFFENSES       1\n",
       "Name: OFNS_DESC, dtype: int64"
      ]
     },
     "execution_count": 32,
     "metadata": {},
     "output_type": "execute_result"
    }
   ],
   "source": [
    "df['OFNS_DESC'].value_counts()"
   ]
  },
  {
   "cell_type": "code",
   "execution_count": null,
   "id": "38a92d05",
   "metadata": {},
   "outputs": [],
   "source": []
  }
 ],
 "metadata": {
  "kernelspec": {
   "display_name": "Python 3 (ipykernel)",
   "language": "python",
   "name": "python3"
  },
  "language_info": {
   "codemirror_mode": {
    "name": "ipython",
    "version": 3
   },
   "file_extension": ".py",
   "mimetype": "text/x-python",
   "name": "python",
   "nbconvert_exporter": "python",
   "pygments_lexer": "ipython3",
   "version": "3.9.12"
  }
 },
 "nbformat": 4,
 "nbformat_minor": 5
}
