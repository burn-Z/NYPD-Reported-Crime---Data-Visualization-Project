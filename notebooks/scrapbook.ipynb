{
 "cells": [
  {
   "cell_type": "code",
   "execution_count": 12,
   "metadata": {},
   "outputs": [],
   "source": [
    "import numpy as np \n",
    "import pandas as pd \n",
    "import matplotlib.pyplot as plt\n",
    "import plotly.graph_objects as go\n",
    "import plotly.express as px\n",
    "pd.set_option('display.max_rows', None)\n",
    "import datetime\n",
    "from plotly.subplots import make_subplots"
   ]
  },
  {
   "cell_type": "markdown",
   "metadata": {},
   "source": [
    "#### [Dataset](https://data.cityofnewyork.us/Public-Safety/NYPD-Complaint-Data-Historic/qgea-i56i)"
   ]
  },
  {
   "cell_type": "markdown",
   "metadata": {},
   "source": [
    "#####  Column Description"
   ]
  },
  {
   "cell_type": "markdown",
   "metadata": {},
   "source": [
    "\n",
    "| Column Name | Description |\n",
    "| ----------- | ----------- |\n",
    "| CMPLNT_NUM | Randomly generated persistent ID for each complaint | \n",
    "| ADDR_PCT_CD | The precinct in which the incident occurred BORO The name of the borough in which the incident occurred |\n",
    "| CMPLNT_FR_DT | Exact date of occurrence for the reported event (or starting date of occurrence, if CMPLNT_TO_DT exists) |\n",
    "| CMPLNT_FR_TM | Exact time of occurrence for the reported event (or starting time of occurrence, if CMPLNT_TO_TM exists) |\n",
    "| CMPLNT_TO_DT | Ending date of occurrence for the reported event, if exact time of occurrence is unknown |\n",
    "| CMPLNT_TO_TM | Ending time of occurrence for the reported event, if exact time of occurrence is unknown |\n",
    "| CRM_ATPT_CPTD_CD | Indicator of whether crime was successfully completed or attempted, but failed or was interrupted prematurely |\n",
    "| HADEVELOPT | Name of NYCHA housing development of occurrence, if applicable |\n",
    "| HOUSING_PSA | Development Level Code |\n",
    "| JURISDICTION_CODE | Jurisdiction responsible for incident. Either internal, like Police(0), Transit(1), and Housing(2); or external(3), like Correction, Port Authority, etc. |\n",
    "| JURIS_DESC |  Description of the jurisdiction code |\n",
    "| KY_CD | Three digit offense classification code |\n",
    "| LAW_CAT_CD | Level of offense: felony, misdemeanor, violation |\n",
    "| LOC_OF_OCCUR_DESC | Specific location of occurrence in or around the premises; inside, opposite of, front of, rear of |\n",
    "| OFNS_DESC | Description of offense corresponding with key code |\n",
    "| PARKS_NM | Name of NYC park, playground or greenspace of occurrence, if applicable (state parks are not included) |\n",
    "| PATROL_BORO | The name of the patrol borough in which the incident occurred |\n",
    "| PD_CD | Three digit internal classification code (more granular than Key Code) |\n",
    "| PD_DESC | Description of internal classification corresponding with PD code (more granular than Offense Description) |\n",
    "| PREM_TYP_DESC |  Specific description of premises; grocery store, residence, street, etc. |\n",
    "| RPT_DT | Date event was reported to police  |\n",
    "| STATION_NAME | Transit station name |\n",
    "| SUSP_AGE_GROUP | Suspect’s Age Group |\n",
    "| SUSP_RACE | Suspect’s Race Description |\n",
    "| SUSP_SEX | Suspect’s Sex Description |\n",
    "| TRANSIT_DISTRICT | Transit district in which the offense occurred. |\n",
    "| VIC_AGE_GROUP | Victim’s Age Group |\n",
    "| VIC_RACE | Victim’s Race Description |\n",
    "| VIC_SEX | Victim’s Sex Description (D=Business/Organization, E=PSNY/People of the State of New York, F=Female, M=Male) |\n",
    "| X_COORD_CD | X-coordinate for New York State Plane Coordinate System, Long Island Zone, NAD 83, units feet (FIPS 3104) |\n",
    "| Y_COORD_CD | Y-coordinate for New York State Plane Coordinate System, Long Island Zone, NAD 83, units feet (FIPS 3104) |\n",
    "| Latitude | Midblock Latitude coordinate for Global Coordinate System, WGS 1984, decimal degrees (EPSG 4326) |\n",
    "| Longitude | Midblock Longitude coordinate for Global Coordinate System, WGS 1984, decimal degrees (EPSG 4326) |"
   ]
  },
  {
   "cell_type": "markdown",
   "metadata": {},
   "source": [
    "##### Loading data"
   ]
  },
  {
   "cell_type": "code",
   "execution_count": 13,
   "metadata": {},
   "outputs": [],
   "source": [
    "df = pd.read_csv('data\\\\NYPD_Complaint_Data_Historic.csv',\n",
    "                 low_memory= False,\n",
    "                #  nrows= 5,\n",
    "                parse_dates= [1],\n",
    "                # index_col= 0\n",
    "                )\n",
    "\n",
    "# check what kind of date object cmplnt_fr_dt is\n",
    "# then use functions to extract each component for analysis"
   ]
  },
  {
   "cell_type": "code",
   "execution_count": 3,
   "metadata": {},
   "outputs": [
    {
     "data": {
      "text/plain": [
       "(7825499, 35)"
      ]
     },
     "execution_count": 3,
     "metadata": {},
     "output_type": "execute_result"
    }
   ],
   "source": [
    "df.shape"
   ]
  },
  {
   "cell_type": "code",
   "execution_count": 120,
   "metadata": {},
   "outputs": [
    {
     "data": {
      "text/plain": [
       "RangeIndex(start=0, stop=7825499, step=1)"
      ]
     },
     "execution_count": 120,
     "metadata": {},
     "output_type": "execute_result"
    }
   ],
   "source": [
    "df.index"
   ]
  },
  {
   "cell_type": "code",
   "execution_count": 10,
   "metadata": {},
   "outputs": [],
   "source": [
    "df['date'] = pd.to_datetime(df['CMPLNT_FR_DT'])"
   ]
  },
  {
   "cell_type": "code",
   "execution_count": 11,
   "metadata": {},
   "outputs": [
    {
     "data": {
      "text/plain": [
       "CMPLNT_NUM\n",
       "506547392   2018-03-29\n",
       "629632833   2018-02-06\n",
       "787203902   2018-11-21\n",
       "280364018   2018-06-09\n",
       "985800320   2018-11-10\n",
       "Name: CMPLNT_FR_DT, dtype: datetime64[ns]"
      ]
     },
     "execution_count": 11,
     "metadata": {},
     "output_type": "execute_result"
    }
   ],
   "source": [
    "df['CMPLNT_FR_DT']"
   ]
  },
  {
   "cell_type": "code",
   "execution_count": 12,
   "metadata": {},
   "outputs": [
    {
     "data": {
      "text/plain": [
       "CMPLNT_NUM\n",
       "506547392   2018-03-29\n",
       "629632833   2018-02-06\n",
       "787203902   2018-11-21\n",
       "280364018   2018-06-09\n",
       "985800320   2018-11-10\n",
       "Name: DATE, dtype: datetime64[ns]"
      ]
     },
     "execution_count": 12,
     "metadata": {},
     "output_type": "execute_result"
    }
   ],
   "source": [
    "df.DATE"
   ]
  },
  {
   "cell_type": "markdown",
   "metadata": {},
   "source": [
    "### Analysis"
   ]
  },
  {
   "cell_type": "markdown",
   "metadata": {},
   "source": [
    "##### removing nulls and unnecessary columns"
   ]
  },
  {
   "cell_type": "code",
   "execution_count": null,
   "metadata": {},
   "outputs": [],
   "source": [
    "# Check percentage of nulls\n",
    "# df.isnull().sum() * 100 / len(df)"
   ]
  },
  {
   "cell_type": "code",
   "execution_count": 14,
   "metadata": {},
   "outputs": [],
   "source": [
    "drop_cols = ['HADEVELOPT',  'STATION_NAME', 'HOUSING_PSA', 'SUSP_AGE_GROUP', 'SUSP_RACE', 'SUSP_SEX',\n",
    "            'TRANSIT_DISTRICT', 'STATION_NAME', 'VIC_AGE_GROUP', 'LOC_OF_OCCUR_DESC', 'JURIS_DESC']\n",
    "\n",
    "df.drop(labels= drop_cols, axis= 1, inplace= True)\n",
    "\n",
    "# dropping nulls, because dropna does not work in this case\n",
    "df = df.loc[~df['CMPLNT_FR_DT'].isnull()]"
   ]
  },
  {
   "cell_type": "markdown",
   "metadata": {},
   "source": [
    "##### Extract column data types to change them if needed"
   ]
  },
  {
   "cell_type": "code",
   "execution_count": null,
   "metadata": {},
   "outputs": [],
   "source": [
    "for col in df.columns:\n",
    "    print(f'\\'{col}\\':\\'{df[col].dtype}\\'', end = ', ')\n",
    "\n",
    "col_types = {\n",
    "\n",
    "}\n",
    "\n",
    "df = df.astype(col_types, errors = 'ignore')"
   ]
  },
  {
   "cell_type": "markdown",
   "metadata": {},
   "source": [
    "##### Subset data to reduce memory usage"
   ]
  },
  {
   "cell_type": "code",
   "execution_count": 15,
   "metadata": {},
   "outputs": [],
   "source": [
    "A_df = df[['CMPLNT_NUM', 'OFNS_DESC', 'BORO_NM', 'CMPLNT_FR_DT']].copy(deep = True).sort_values(by= ['CMPLNT_FR_DT'])"
   ]
  },
  {
   "cell_type": "code",
   "execution_count": 16,
   "metadata": {},
   "outputs": [
    {
     "data": {
      "text/html": [
       "<div>\n",
       "<style scoped>\n",
       "    .dataframe tbody tr th:only-of-type {\n",
       "        vertical-align: middle;\n",
       "    }\n",
       "\n",
       "    .dataframe tbody tr th {\n",
       "        vertical-align: top;\n",
       "    }\n",
       "\n",
       "    .dataframe thead th {\n",
       "        text-align: right;\n",
       "    }\n",
       "</style>\n",
       "<table border=\"1\" class=\"dataframe\">\n",
       "  <thead>\n",
       "    <tr style=\"text-align: right;\">\n",
       "      <th></th>\n",
       "      <th>CMPLNT_NUM</th>\n",
       "      <th>OFNS_DESC</th>\n",
       "      <th>BORO_NM</th>\n",
       "      <th>CMPLNT_FR_DT</th>\n",
       "    </tr>\n",
       "  </thead>\n",
       "  <tbody>\n",
       "    <tr>\n",
       "      <th>6162282</th>\n",
       "      <td>688541128</td>\n",
       "      <td>OFF. AGNST PUB ORD SENSBLTY &amp;</td>\n",
       "      <td>QUEENS</td>\n",
       "      <td>01/01/1948</td>\n",
       "    </tr>\n",
       "    <tr>\n",
       "      <th>806537</th>\n",
       "      <td>826810741</td>\n",
       "      <td>SEX CRIMES</td>\n",
       "      <td>STATEN ISLAND</td>\n",
       "      <td>01/01/1955</td>\n",
       "    </tr>\n",
       "    <tr>\n",
       "      <th>1226315</th>\n",
       "      <td>865130884</td>\n",
       "      <td>SEX CRIMES</td>\n",
       "      <td>BROOKLYN</td>\n",
       "      <td>01/01/1955</td>\n",
       "    </tr>\n",
       "    <tr>\n",
       "      <th>6813738</th>\n",
       "      <td>135769527</td>\n",
       "      <td>GRAND LARCENY</td>\n",
       "      <td>BROOKLYN</td>\n",
       "      <td>01/01/1964</td>\n",
       "    </tr>\n",
       "    <tr>\n",
       "      <th>440416</th>\n",
       "      <td>291498531</td>\n",
       "      <td>SEX CRIMES</td>\n",
       "      <td>MANHATTAN</td>\n",
       "      <td>01/01/1965</td>\n",
       "    </tr>\n",
       "  </tbody>\n",
       "</table>\n",
       "</div>"
      ],
      "text/plain": [
       "         CMPLNT_NUM                      OFNS_DESC        BORO_NM CMPLNT_FR_DT\n",
       "6162282   688541128  OFF. AGNST PUB ORD SENSBLTY &         QUEENS   01/01/1948\n",
       "806537    826810741                     SEX CRIMES  STATEN ISLAND   01/01/1955\n",
       "1226315   865130884                     SEX CRIMES       BROOKLYN   01/01/1955\n",
       "6813738   135769527                  GRAND LARCENY       BROOKLYN   01/01/1964\n",
       "440416    291498531                     SEX CRIMES      MANHATTAN   01/01/1965"
      ]
     },
     "execution_count": 16,
     "metadata": {},
     "output_type": "execute_result"
    }
   ],
   "source": [
    "A_df.head()"
   ]
  },
  {
   "cell_type": "code",
   "execution_count": 17,
   "metadata": {},
   "outputs": [],
   "source": [
    "def extract_year(mydat):\n",
    "    temp = int(str(mydat)[-4:])\n",
    "    return temp if temp >= 2006 else None\n",
    "\n",
    "def extract_month(mydat):\n",
    "    temp = int(str(mydat)[:2])\n",
    "\n",
    "    return temp\n",
    "\n",
    "def extract_day(mydat):\n",
    "    return int(str(mydat[3:5]))\n",
    "\n",
    "# extract the year from the complaint date\n",
    "# and if its before 2006, replace with None\n",
    "A_df['year'] = A_df['CMPLNT_FR_DT'].apply(extract_year)\n",
    "A_df['month'] = A_df['CMPLNT_FR_DT'].apply(extract_month)\n",
    "A_df['day'] = A_df['CMPLNT_FR_DT'].apply(extract_day)\n",
    "\n",
    "# drop years before 2006\n",
    "A_df.dropna(inplace= True)\n",
    "\n",
    "\n",
    "# A_df['year'] = pd.DatetimeIndex(A_df['CMPLNT_FR_DT']).year\n",
    "# A_df['month'] = A_df['CMPLNT_FR_DT'].dt.month"
   ]
  },
  {
   "cell_type": "code",
   "execution_count": 22,
   "metadata": {},
   "outputs": [],
   "source": [
    "# # Takes a lot of time\n",
    "# A_df.rename(columns= {'CMPLNT_NUM': 'id', 'OFNS_DESC': 'offense', 'CMPLT_FR_DT': 'date', 'BORO_NM': 'borough'})\n",
    "\n",
    "A_df.columns = A_df.columns.to_series().replace({'CMPLNT_NUM': 'id', 'OFNS_DESC': 'offense', 'CMPLNT_FR_DT': 'date', 'BORO_NM': 'borough'})"
   ]
  },
  {
   "cell_type": "code",
   "execution_count": 23,
   "metadata": {},
   "outputs": [
    {
     "data": {
      "text/html": [
       "<div>\n",
       "<style scoped>\n",
       "    .dataframe tbody tr th:only-of-type {\n",
       "        vertical-align: middle;\n",
       "    }\n",
       "\n",
       "    .dataframe tbody tr th {\n",
       "        vertical-align: top;\n",
       "    }\n",
       "\n",
       "    .dataframe thead th {\n",
       "        text-align: right;\n",
       "    }\n",
       "</style>\n",
       "<table border=\"1\" class=\"dataframe\">\n",
       "  <thead>\n",
       "    <tr style=\"text-align: right;\">\n",
       "      <th></th>\n",
       "      <th>id</th>\n",
       "      <th>offense</th>\n",
       "      <th>borough</th>\n",
       "      <th>date</th>\n",
       "      <th>year</th>\n",
       "      <th>month</th>\n",
       "      <th>day</th>\n",
       "    </tr>\n",
       "  </thead>\n",
       "  <tbody>\n",
       "    <tr>\n",
       "      <th>7083503</th>\n",
       "      <td>371806352</td>\n",
       "      <td>GRAND LARCENY OF MOTOR VEHICLE</td>\n",
       "      <td>BRONX</td>\n",
       "      <td>01/01/2006</td>\n",
       "      <td>2006.0</td>\n",
       "      <td>1</td>\n",
       "      <td>1</td>\n",
       "    </tr>\n",
       "    <tr>\n",
       "      <th>4364668</th>\n",
       "      <td>646557200</td>\n",
       "      <td>SEX CRIMES</td>\n",
       "      <td>MANHATTAN</td>\n",
       "      <td>01/01/2006</td>\n",
       "      <td>2006.0</td>\n",
       "      <td>1</td>\n",
       "      <td>1</td>\n",
       "    </tr>\n",
       "    <tr>\n",
       "      <th>4782863</th>\n",
       "      <td>158260094</td>\n",
       "      <td>ROBBERY</td>\n",
       "      <td>BRONX</td>\n",
       "      <td>01/01/2006</td>\n",
       "      <td>2006.0</td>\n",
       "      <td>1</td>\n",
       "      <td>1</td>\n",
       "    </tr>\n",
       "    <tr>\n",
       "      <th>3895184</th>\n",
       "      <td>487212855</td>\n",
       "      <td>SEX CRIMES</td>\n",
       "      <td>BROOKLYN</td>\n",
       "      <td>01/01/2006</td>\n",
       "      <td>2006.0</td>\n",
       "      <td>1</td>\n",
       "      <td>1</td>\n",
       "    </tr>\n",
       "    <tr>\n",
       "      <th>1336787</th>\n",
       "      <td>129185023</td>\n",
       "      <td>SEX CRIMES</td>\n",
       "      <td>QUEENS</td>\n",
       "      <td>01/01/2006</td>\n",
       "      <td>2006.0</td>\n",
       "      <td>1</td>\n",
       "      <td>1</td>\n",
       "    </tr>\n",
       "  </tbody>\n",
       "</table>\n",
       "</div>"
      ],
      "text/plain": [
       "                id                         offense    borough        date  \\\n",
       "7083503  371806352  GRAND LARCENY OF MOTOR VEHICLE      BRONX  01/01/2006   \n",
       "4364668  646557200                      SEX CRIMES  MANHATTAN  01/01/2006   \n",
       "4782863  158260094                         ROBBERY      BRONX  01/01/2006   \n",
       "3895184  487212855                      SEX CRIMES   BROOKLYN  01/01/2006   \n",
       "1336787  129185023                      SEX CRIMES     QUEENS  01/01/2006   \n",
       "\n",
       "           year  month  day  \n",
       "7083503  2006.0      1    1  \n",
       "4364668  2006.0      1    1  \n",
       "4782863  2006.0      1    1  \n",
       "3895184  2006.0      1    1  \n",
       "1336787  2006.0      1    1  "
      ]
     },
     "execution_count": 23,
     "metadata": {},
     "output_type": "execute_result"
    }
   ],
   "source": [
    "A_df.head()"
   ]
  },
  {
   "cell_type": "code",
   "execution_count": 25,
   "metadata": {},
   "outputs": [],
   "source": [
    "# create csv for subsetted data\n",
    "A_df.to_csv('data\\\\neighbh_crime_dist.csv', columns= ['id', 'offense', 'borough', 'date', 'year', 'month', 'day'])"
   ]
  },
  {
   "cell_type": "markdown",
   "metadata": {},
   "source": [
    "#### V1: The most and least committed crimes"
   ]
  },
  {
   "cell_type": "code",
   "execution_count": null,
   "metadata": {},
   "outputs": [],
   "source": [
    "crime_type_count = A_df.groupby(['OFNS_DESC'])['OFNS_DESC'].count().sort_values(ascending= False)\n",
    "\n",
    "crime_type_count"
   ]
  },
  {
   "cell_type": "markdown",
   "metadata": {},
   "source": [
    "##### Treemap: Crime Distribution in New York\n",
    "* rebuild with law cat code"
   ]
  },
  {
   "cell_type": "code",
   "execution_count": null,
   "metadata": {},
   "outputs": [],
   "source": [
    "# Credit to FEDI BEN MESSAOUD: https://www.kaggle.com/code/fedi1996/boston-crime-analysis-with-plotly\n",
    "def treemap(categories,title,path,values):\n",
    "    fig = px.treemap(categories, path=path, values=values, height=1000,\n",
    "                 title=title, color_discrete_sequence = px.colors.sequential.RdBu)\n",
    "    fig.data[0].textinfo = 'label+text+value'\n",
    "    fig.show()\n",
    "\n",
    "crime_count = df['OFNS_DESC'].value_counts()\n",
    "vals = crime_count.values\n",
    "\n",
    "categories = pd.DataFrame(data= crime_count.index, columns=[\"OFNS_DESC\"])\n",
    "categories['values'] = vals\n",
    "\n",
    "treemap(categories,'Crimes in New York',['OFNS_DESC'],categories['values'])"
   ]
  },
  {
   "cell_type": "markdown",
   "metadata": {},
   "source": [
    "#### V2 The most and least crime neighborhoods\n",
    "- want to see how that changes every year\n",
    "    - pie chart"
   ]
  },
  {
   "cell_type": "code",
   "execution_count": 27,
   "metadata": {},
   "outputs": [],
   "source": [
    "# OPTION 1: use borough\n",
    "q2_df = pd.read_csv('data\\\\neighbh_crime_dist.csv',\n",
    "                 low_memory= False,\n",
    "                 nrows= 500000,\n",
    "                # parse_dates= [1],\n",
    "                 index_col= 'id'\n",
    "                ).drop('Unnamed: 0', axis= 1)\n"
   ]
  },
  {
   "cell_type": "code",
   "execution_count": 28,
   "metadata": {},
   "outputs": [
    {
     "data": {
      "text/html": [
       "<div>\n",
       "<style scoped>\n",
       "    .dataframe tbody tr th:only-of-type {\n",
       "        vertical-align: middle;\n",
       "    }\n",
       "\n",
       "    .dataframe tbody tr th {\n",
       "        vertical-align: top;\n",
       "    }\n",
       "\n",
       "    .dataframe thead th {\n",
       "        text-align: right;\n",
       "    }\n",
       "</style>\n",
       "<table border=\"1\" class=\"dataframe\">\n",
       "  <thead>\n",
       "    <tr style=\"text-align: right;\">\n",
       "      <th></th>\n",
       "      <th>offense</th>\n",
       "      <th>borough</th>\n",
       "      <th>date</th>\n",
       "      <th>year</th>\n",
       "      <th>month</th>\n",
       "      <th>day</th>\n",
       "    </tr>\n",
       "    <tr>\n",
       "      <th>id</th>\n",
       "      <th></th>\n",
       "      <th></th>\n",
       "      <th></th>\n",
       "      <th></th>\n",
       "      <th></th>\n",
       "      <th></th>\n",
       "    </tr>\n",
       "  </thead>\n",
       "  <tbody>\n",
       "    <tr>\n",
       "      <th>371806352</th>\n",
       "      <td>GRAND LARCENY OF MOTOR VEHICLE</td>\n",
       "      <td>BRONX</td>\n",
       "      <td>01/01/2006</td>\n",
       "      <td>2006.0</td>\n",
       "      <td>1</td>\n",
       "      <td>1</td>\n",
       "    </tr>\n",
       "    <tr>\n",
       "      <th>646557200</th>\n",
       "      <td>SEX CRIMES</td>\n",
       "      <td>MANHATTAN</td>\n",
       "      <td>01/01/2006</td>\n",
       "      <td>2006.0</td>\n",
       "      <td>1</td>\n",
       "      <td>1</td>\n",
       "    </tr>\n",
       "    <tr>\n",
       "      <th>158260094</th>\n",
       "      <td>ROBBERY</td>\n",
       "      <td>BRONX</td>\n",
       "      <td>01/01/2006</td>\n",
       "      <td>2006.0</td>\n",
       "      <td>1</td>\n",
       "      <td>1</td>\n",
       "    </tr>\n",
       "    <tr>\n",
       "      <th>487212855</th>\n",
       "      <td>SEX CRIMES</td>\n",
       "      <td>BROOKLYN</td>\n",
       "      <td>01/01/2006</td>\n",
       "      <td>2006.0</td>\n",
       "      <td>1</td>\n",
       "      <td>1</td>\n",
       "    </tr>\n",
       "    <tr>\n",
       "      <th>129185023</th>\n",
       "      <td>SEX CRIMES</td>\n",
       "      <td>QUEENS</td>\n",
       "      <td>01/01/2006</td>\n",
       "      <td>2006.0</td>\n",
       "      <td>1</td>\n",
       "      <td>1</td>\n",
       "    </tr>\n",
       "  </tbody>\n",
       "</table>\n",
       "</div>"
      ],
      "text/plain": [
       "                                  offense    borough        date    year  \\\n",
       "id                                                                         \n",
       "371806352  GRAND LARCENY OF MOTOR VEHICLE      BRONX  01/01/2006  2006.0   \n",
       "646557200                      SEX CRIMES  MANHATTAN  01/01/2006  2006.0   \n",
       "158260094                         ROBBERY      BRONX  01/01/2006  2006.0   \n",
       "487212855                      SEX CRIMES   BROOKLYN  01/01/2006  2006.0   \n",
       "129185023                      SEX CRIMES     QUEENS  01/01/2006  2006.0   \n",
       "\n",
       "           month  day  \n",
       "id                     \n",
       "371806352      1    1  \n",
       "646557200      1    1  \n",
       "158260094      1    1  \n",
       "487212855      1    1  \n",
       "129185023      1    1  "
      ]
     },
     "execution_count": 28,
     "metadata": {},
     "output_type": "execute_result"
    }
   ],
   "source": [
    "q2_df.head()"
   ]
  },
  {
   "cell_type": "code",
   "execution_count": 30,
   "metadata": {},
   "outputs": [
    {
     "data": {
      "application/vnd.plotly.v1+json": {
       "config": {
        "plotlyServerURL": "https://plot.ly"
       },
       "data": [
        {
         "hovertemplate": "borough=BROOKLYN<br>Year=%{x}<br>Count=%{y}<extra></extra>",
         "legendgroup": "BROOKLYN",
         "line": {
          "color": "#636efa",
          "dash": "solid"
         },
         "marker": {
          "symbol": "circle"
         },
         "mode": "lines",
         "name": "BROOKLYN",
         "orientation": "v",
         "showlegend": true,
         "type": "scatter",
         "x": [
          2006,
          2007,
          2008,
          2009,
          2010,
          2011,
          2012,
          2013,
          2014,
          2015,
          2016,
          2017,
          2018,
          2019,
          2020,
          2021
         ],
         "xaxis": "x",
         "y": [
          10731,
          10712,
          10437,
          9748,
          10107,
          9083,
          9738,
          9396,
          9073,
          8532,
          8841,
          9010,
          8453,
          8522,
          8507,
          7528
         ],
         "yaxis": "y"
        },
        {
         "hovertemplate": "borough=BRONX<br>Year=%{x}<br>Count=%{y}<extra></extra>",
         "legendgroup": "BRONX",
         "line": {
          "color": "#EF553B",
          "dash": "solid"
         },
         "marker": {
          "symbol": "circle"
         },
         "mode": "lines",
         "name": "BRONX",
         "orientation": "v",
         "showlegend": true,
         "type": "scatter",
         "x": [
          2006,
          2007,
          2008,
          2009,
          2010,
          2011,
          2012,
          2013,
          2014,
          2015,
          2016,
          2017,
          2018,
          2019,
          2020,
          2021
         ],
         "xaxis": "x",
         "y": [
          7658,
          7856,
          8129,
          7159,
          7514,
          6873,
          7062,
          6611,
          6694,
          5890,
          6664,
          6716,
          6285,
          6253,
          6587,
          5572
         ],
         "yaxis": "y"
        },
        {
         "hovertemplate": "borough=MANHATTAN<br>Year=%{x}<br>Count=%{y}<extra></extra>",
         "legendgroup": "MANHATTAN",
         "line": {
          "color": "#00cc96",
          "dash": "solid"
         },
         "marker": {
          "symbol": "circle"
         },
         "mode": "lines",
         "name": "MANHATTAN",
         "orientation": "v",
         "showlegend": true,
         "type": "scatter",
         "x": [
          2006,
          2007,
          2008,
          2009,
          2010,
          2011,
          2012,
          2013,
          2014,
          2015,
          2016,
          2017,
          2018,
          2019,
          2020,
          2021
         ],
         "xaxis": "x",
         "y": [
          8391,
          8741,
          8643,
          7924,
          8218,
          7160,
          7510,
          7582,
          7029,
          6544,
          7165,
          7112,
          7226,
          7011,
          7589,
          6081
         ],
         "yaxis": "y"
        },
        {
         "hovertemplate": "borough=STATEN ISLAND<br>Year=%{x}<br>Count=%{y}<extra></extra>",
         "legendgroup": "STATEN ISLAND",
         "line": {
          "color": "#ab63fa",
          "dash": "solid"
         },
         "marker": {
          "symbol": "circle"
         },
         "mode": "lines",
         "name": "STATEN ISLAND",
         "orientation": "v",
         "showlegend": true,
         "type": "scatter",
         "x": [
          2006,
          2007,
          2008,
          2009,
          2010,
          2011,
          2012,
          2013,
          2014,
          2015,
          2016,
          2017,
          2018,
          2019,
          2020,
          2021
         ],
         "xaxis": "x",
         "y": [
          1754,
          1706,
          1667,
          1436,
          1534,
          1388,
          1405,
          1393,
          1424,
          1254,
          1355,
          1414,
          1262,
          1224,
          1255,
          1124
         ],
         "yaxis": "y"
        },
        {
         "hovertemplate": "borough=QUEENS<br>Year=%{x}<br>Count=%{y}<extra></extra>",
         "legendgroup": "QUEENS",
         "line": {
          "color": "#FFA15A",
          "dash": "solid"
         },
         "marker": {
          "symbol": "circle"
         },
         "mode": "lines",
         "name": "QUEENS",
         "orientation": "v",
         "showlegend": true,
         "type": "scatter",
         "x": [
          2006,
          2007,
          2008,
          2009,
          2010,
          2011,
          2012,
          2013,
          2014,
          2015,
          2016,
          2017,
          2018,
          2019,
          2020,
          2021
         ],
         "xaxis": "x",
         "y": [
          7268,
          6990,
          6889,
          5975,
          6708,
          5895,
          6478,
          6368,
          6496,
          5672,
          5893,
          5906,
          5678,
          5524,
          6102,
          5696
         ],
         "yaxis": "y"
        }
       ],
       "layout": {
        "legend": {
         "title": {
          "text": "borough"
         },
         "tracegroupgap": 0
        },
        "margin": {
         "t": 60
        },
        "template": {
         "data": {
          "bar": [
           {
            "error_x": {
             "color": "#2a3f5f"
            },
            "error_y": {
             "color": "#2a3f5f"
            },
            "marker": {
             "line": {
              "color": "#E5ECF6",
              "width": 0.5
             },
             "pattern": {
              "fillmode": "overlay",
              "size": 10,
              "solidity": 0.2
             }
            },
            "type": "bar"
           }
          ],
          "barpolar": [
           {
            "marker": {
             "line": {
              "color": "#E5ECF6",
              "width": 0.5
             },
             "pattern": {
              "fillmode": "overlay",
              "size": 10,
              "solidity": 0.2
             }
            },
            "type": "barpolar"
           }
          ],
          "carpet": [
           {
            "aaxis": {
             "endlinecolor": "#2a3f5f",
             "gridcolor": "white",
             "linecolor": "white",
             "minorgridcolor": "white",
             "startlinecolor": "#2a3f5f"
            },
            "baxis": {
             "endlinecolor": "#2a3f5f",
             "gridcolor": "white",
             "linecolor": "white",
             "minorgridcolor": "white",
             "startlinecolor": "#2a3f5f"
            },
            "type": "carpet"
           }
          ],
          "choropleth": [
           {
            "colorbar": {
             "outlinewidth": 0,
             "ticks": ""
            },
            "type": "choropleth"
           }
          ],
          "contour": [
           {
            "colorbar": {
             "outlinewidth": 0,
             "ticks": ""
            },
            "colorscale": [
             [
              0,
              "#0d0887"
             ],
             [
              0.1111111111111111,
              "#46039f"
             ],
             [
              0.2222222222222222,
              "#7201a8"
             ],
             [
              0.3333333333333333,
              "#9c179e"
             ],
             [
              0.4444444444444444,
              "#bd3786"
             ],
             [
              0.5555555555555556,
              "#d8576b"
             ],
             [
              0.6666666666666666,
              "#ed7953"
             ],
             [
              0.7777777777777778,
              "#fb9f3a"
             ],
             [
              0.8888888888888888,
              "#fdca26"
             ],
             [
              1,
              "#f0f921"
             ]
            ],
            "type": "contour"
           }
          ],
          "contourcarpet": [
           {
            "colorbar": {
             "outlinewidth": 0,
             "ticks": ""
            },
            "type": "contourcarpet"
           }
          ],
          "heatmap": [
           {
            "colorbar": {
             "outlinewidth": 0,
             "ticks": ""
            },
            "colorscale": [
             [
              0,
              "#0d0887"
             ],
             [
              0.1111111111111111,
              "#46039f"
             ],
             [
              0.2222222222222222,
              "#7201a8"
             ],
             [
              0.3333333333333333,
              "#9c179e"
             ],
             [
              0.4444444444444444,
              "#bd3786"
             ],
             [
              0.5555555555555556,
              "#d8576b"
             ],
             [
              0.6666666666666666,
              "#ed7953"
             ],
             [
              0.7777777777777778,
              "#fb9f3a"
             ],
             [
              0.8888888888888888,
              "#fdca26"
             ],
             [
              1,
              "#f0f921"
             ]
            ],
            "type": "heatmap"
           }
          ],
          "heatmapgl": [
           {
            "colorbar": {
             "outlinewidth": 0,
             "ticks": ""
            },
            "colorscale": [
             [
              0,
              "#0d0887"
             ],
             [
              0.1111111111111111,
              "#46039f"
             ],
             [
              0.2222222222222222,
              "#7201a8"
             ],
             [
              0.3333333333333333,
              "#9c179e"
             ],
             [
              0.4444444444444444,
              "#bd3786"
             ],
             [
              0.5555555555555556,
              "#d8576b"
             ],
             [
              0.6666666666666666,
              "#ed7953"
             ],
             [
              0.7777777777777778,
              "#fb9f3a"
             ],
             [
              0.8888888888888888,
              "#fdca26"
             ],
             [
              1,
              "#f0f921"
             ]
            ],
            "type": "heatmapgl"
           }
          ],
          "histogram": [
           {
            "marker": {
             "pattern": {
              "fillmode": "overlay",
              "size": 10,
              "solidity": 0.2
             }
            },
            "type": "histogram"
           }
          ],
          "histogram2d": [
           {
            "colorbar": {
             "outlinewidth": 0,
             "ticks": ""
            },
            "colorscale": [
             [
              0,
              "#0d0887"
             ],
             [
              0.1111111111111111,
              "#46039f"
             ],
             [
              0.2222222222222222,
              "#7201a8"
             ],
             [
              0.3333333333333333,
              "#9c179e"
             ],
             [
              0.4444444444444444,
              "#bd3786"
             ],
             [
              0.5555555555555556,
              "#d8576b"
             ],
             [
              0.6666666666666666,
              "#ed7953"
             ],
             [
              0.7777777777777778,
              "#fb9f3a"
             ],
             [
              0.8888888888888888,
              "#fdca26"
             ],
             [
              1,
              "#f0f921"
             ]
            ],
            "type": "histogram2d"
           }
          ],
          "histogram2dcontour": [
           {
            "colorbar": {
             "outlinewidth": 0,
             "ticks": ""
            },
            "colorscale": [
             [
              0,
              "#0d0887"
             ],
             [
              0.1111111111111111,
              "#46039f"
             ],
             [
              0.2222222222222222,
              "#7201a8"
             ],
             [
              0.3333333333333333,
              "#9c179e"
             ],
             [
              0.4444444444444444,
              "#bd3786"
             ],
             [
              0.5555555555555556,
              "#d8576b"
             ],
             [
              0.6666666666666666,
              "#ed7953"
             ],
             [
              0.7777777777777778,
              "#fb9f3a"
             ],
             [
              0.8888888888888888,
              "#fdca26"
             ],
             [
              1,
              "#f0f921"
             ]
            ],
            "type": "histogram2dcontour"
           }
          ],
          "mesh3d": [
           {
            "colorbar": {
             "outlinewidth": 0,
             "ticks": ""
            },
            "type": "mesh3d"
           }
          ],
          "parcoords": [
           {
            "line": {
             "colorbar": {
              "outlinewidth": 0,
              "ticks": ""
             }
            },
            "type": "parcoords"
           }
          ],
          "pie": [
           {
            "automargin": true,
            "type": "pie"
           }
          ],
          "scatter": [
           {
            "fillpattern": {
             "fillmode": "overlay",
             "size": 10,
             "solidity": 0.2
            },
            "type": "scatter"
           }
          ],
          "scatter3d": [
           {
            "line": {
             "colorbar": {
              "outlinewidth": 0,
              "ticks": ""
             }
            },
            "marker": {
             "colorbar": {
              "outlinewidth": 0,
              "ticks": ""
             }
            },
            "type": "scatter3d"
           }
          ],
          "scattercarpet": [
           {
            "marker": {
             "colorbar": {
              "outlinewidth": 0,
              "ticks": ""
             }
            },
            "type": "scattercarpet"
           }
          ],
          "scattergeo": [
           {
            "marker": {
             "colorbar": {
              "outlinewidth": 0,
              "ticks": ""
             }
            },
            "type": "scattergeo"
           }
          ],
          "scattergl": [
           {
            "marker": {
             "colorbar": {
              "outlinewidth": 0,
              "ticks": ""
             }
            },
            "type": "scattergl"
           }
          ],
          "scattermapbox": [
           {
            "marker": {
             "colorbar": {
              "outlinewidth": 0,
              "ticks": ""
             }
            },
            "type": "scattermapbox"
           }
          ],
          "scatterpolar": [
           {
            "marker": {
             "colorbar": {
              "outlinewidth": 0,
              "ticks": ""
             }
            },
            "type": "scatterpolar"
           }
          ],
          "scatterpolargl": [
           {
            "marker": {
             "colorbar": {
              "outlinewidth": 0,
              "ticks": ""
             }
            },
            "type": "scatterpolargl"
           }
          ],
          "scatterternary": [
           {
            "marker": {
             "colorbar": {
              "outlinewidth": 0,
              "ticks": ""
             }
            },
            "type": "scatterternary"
           }
          ],
          "surface": [
           {
            "colorbar": {
             "outlinewidth": 0,
             "ticks": ""
            },
            "colorscale": [
             [
              0,
              "#0d0887"
             ],
             [
              0.1111111111111111,
              "#46039f"
             ],
             [
              0.2222222222222222,
              "#7201a8"
             ],
             [
              0.3333333333333333,
              "#9c179e"
             ],
             [
              0.4444444444444444,
              "#bd3786"
             ],
             [
              0.5555555555555556,
              "#d8576b"
             ],
             [
              0.6666666666666666,
              "#ed7953"
             ],
             [
              0.7777777777777778,
              "#fb9f3a"
             ],
             [
              0.8888888888888888,
              "#fdca26"
             ],
             [
              1,
              "#f0f921"
             ]
            ],
            "type": "surface"
           }
          ],
          "table": [
           {
            "cells": {
             "fill": {
              "color": "#EBF0F8"
             },
             "line": {
              "color": "white"
             }
            },
            "header": {
             "fill": {
              "color": "#C8D4E3"
             },
             "line": {
              "color": "white"
             }
            },
            "type": "table"
           }
          ]
         },
         "layout": {
          "annotationdefaults": {
           "arrowcolor": "#2a3f5f",
           "arrowhead": 0,
           "arrowwidth": 1
          },
          "autotypenumbers": "strict",
          "coloraxis": {
           "colorbar": {
            "outlinewidth": 0,
            "ticks": ""
           }
          },
          "colorscale": {
           "diverging": [
            [
             0,
             "#8e0152"
            ],
            [
             0.1,
             "#c51b7d"
            ],
            [
             0.2,
             "#de77ae"
            ],
            [
             0.3,
             "#f1b6da"
            ],
            [
             0.4,
             "#fde0ef"
            ],
            [
             0.5,
             "#f7f7f7"
            ],
            [
             0.6,
             "#e6f5d0"
            ],
            [
             0.7,
             "#b8e186"
            ],
            [
             0.8,
             "#7fbc41"
            ],
            [
             0.9,
             "#4d9221"
            ],
            [
             1,
             "#276419"
            ]
           ],
           "sequential": [
            [
             0,
             "#0d0887"
            ],
            [
             0.1111111111111111,
             "#46039f"
            ],
            [
             0.2222222222222222,
             "#7201a8"
            ],
            [
             0.3333333333333333,
             "#9c179e"
            ],
            [
             0.4444444444444444,
             "#bd3786"
            ],
            [
             0.5555555555555556,
             "#d8576b"
            ],
            [
             0.6666666666666666,
             "#ed7953"
            ],
            [
             0.7777777777777778,
             "#fb9f3a"
            ],
            [
             0.8888888888888888,
             "#fdca26"
            ],
            [
             1,
             "#f0f921"
            ]
           ],
           "sequentialminus": [
            [
             0,
             "#0d0887"
            ],
            [
             0.1111111111111111,
             "#46039f"
            ],
            [
             0.2222222222222222,
             "#7201a8"
            ],
            [
             0.3333333333333333,
             "#9c179e"
            ],
            [
             0.4444444444444444,
             "#bd3786"
            ],
            [
             0.5555555555555556,
             "#d8576b"
            ],
            [
             0.6666666666666666,
             "#ed7953"
            ],
            [
             0.7777777777777778,
             "#fb9f3a"
            ],
            [
             0.8888888888888888,
             "#fdca26"
            ],
            [
             1,
             "#f0f921"
            ]
           ]
          },
          "colorway": [
           "#636efa",
           "#EF553B",
           "#00cc96",
           "#ab63fa",
           "#FFA15A",
           "#19d3f3",
           "#FF6692",
           "#B6E880",
           "#FF97FF",
           "#FECB52"
          ],
          "font": {
           "color": "#2a3f5f"
          },
          "geo": {
           "bgcolor": "white",
           "lakecolor": "white",
           "landcolor": "#E5ECF6",
           "showlakes": true,
           "showland": true,
           "subunitcolor": "white"
          },
          "hoverlabel": {
           "align": "left"
          },
          "hovermode": "closest",
          "mapbox": {
           "style": "light"
          },
          "paper_bgcolor": "white",
          "plot_bgcolor": "#E5ECF6",
          "polar": {
           "angularaxis": {
            "gridcolor": "white",
            "linecolor": "white",
            "ticks": ""
           },
           "bgcolor": "#E5ECF6",
           "radialaxis": {
            "gridcolor": "white",
            "linecolor": "white",
            "ticks": ""
           }
          },
          "scene": {
           "xaxis": {
            "backgroundcolor": "#E5ECF6",
            "gridcolor": "white",
            "gridwidth": 2,
            "linecolor": "white",
            "showbackground": true,
            "ticks": "",
            "zerolinecolor": "white"
           },
           "yaxis": {
            "backgroundcolor": "#E5ECF6",
            "gridcolor": "white",
            "gridwidth": 2,
            "linecolor": "white",
            "showbackground": true,
            "ticks": "",
            "zerolinecolor": "white"
           },
           "zaxis": {
            "backgroundcolor": "#E5ECF6",
            "gridcolor": "white",
            "gridwidth": 2,
            "linecolor": "white",
            "showbackground": true,
            "ticks": "",
            "zerolinecolor": "white"
           }
          },
          "shapedefaults": {
           "line": {
            "color": "#2a3f5f"
           }
          },
          "ternary": {
           "aaxis": {
            "gridcolor": "white",
            "linecolor": "white",
            "ticks": ""
           },
           "baxis": {
            "gridcolor": "white",
            "linecolor": "white",
            "ticks": ""
           },
           "bgcolor": "#E5ECF6",
           "caxis": {
            "gridcolor": "white",
            "linecolor": "white",
            "ticks": ""
           }
          },
          "title": {
           "x": 0.05
          },
          "xaxis": {
           "automargin": true,
           "gridcolor": "white",
           "linecolor": "white",
           "ticks": "",
           "title": {
            "standoff": 15
           },
           "zerolinecolor": "white",
           "zerolinewidth": 2
          },
          "yaxis": {
           "automargin": true,
           "gridcolor": "white",
           "linecolor": "white",
           "ticks": "",
           "title": {
            "standoff": 15
           },
           "zerolinecolor": "white",
           "zerolinewidth": 2
          }
         }
        },
        "xaxis": {
         "anchor": "y",
         "domain": [
          0,
          1
         ],
         "title": {
          "text": "Year"
         }
        },
        "yaxis": {
         "anchor": "x",
         "domain": [
          0,
          1
         ],
         "title": {
          "text": "Count"
         }
        }
       }
      }
     },
     "metadata": {},
     "output_type": "display_data"
    }
   ],
   "source": [
    "bor = ['BROOKLYN', 'MANHATTAN','BRONX', 'QUEENS', 'STATEN ISLAND']\n",
    "years = [2021]\n",
    "\n",
    "\n",
    "selection = q2_df[q2_df['borough'].isin(bor) | q2_df['year'].isin(years)]\n",
    "\n",
    "vcs = selection[['borough', 'year']].value_counts().reset_index(name= 'Count').sort_values(by= ['year'])\n",
    "\n",
    "ax = px.line(vcs, x= 'year', y= 'Count', color= 'borough', labels={'year': 'Year'}, )\n",
    "\n",
    "# st.plotly_chart(ax)\n",
    "ax.show()"
   ]
  },
  {
   "cell_type": "code",
   "execution_count": 84,
   "metadata": {},
   "outputs": [
    {
     "data": {
      "text/plain": [
       "pandas.core.indexes.multi.MultiIndex"
      ]
     },
     "execution_count": 84,
     "metadata": {},
     "output_type": "execute_result"
    }
   ],
   "source": [
    "type(pd.MultiIndex.from_arrays([['a', 'b'], ['c', 'd']]))"
   ]
  },
  {
   "cell_type": "code",
   "execution_count": null,
   "metadata": {},
   "outputs": [],
   "source": [
    "q2_df.groupby(['BORO_NM'])['BORO_NM'].count().sort_values(ascending= False) / len(A_df) * 100\n",
    "\n",
    "# OPTION 2: possibly use an external dataset of all precinct neighborhood locations, map to the complaint data"
   ]
  },
  {
   "cell_type": "code",
   "execution_count": null,
   "metadata": {},
   "outputs": [],
   "source": [
    "def show_neigh_crime_pie(t_df, year):\n",
    "    plt.figure()\n",
    "\n",
    "    selection = t_df[t_df['CMPLNT_FR_YR'].isin(year)]\n",
    "    ax = selection['BORO_NM'].value_counts().plot(kind= 'pie', autopct = \"%1.1f%%\")\n",
    "    ax.set_title(f'Distribution of Crime per Borough in {year}')\n",
    "\n",
    "    plt.show()"
   ]
  },
  {
   "cell_type": "code",
   "execution_count": null,
   "metadata": {},
   "outputs": [],
   "source": [
    "for y in range(2006,2022, 3):\n",
    "    show_neigh_crime_pie(q2_df, [y])"
   ]
  },
  {
   "cell_type": "markdown",
   "metadata": {},
   "source": [
    "#### The stations with the most crimes"
   ]
  },
  {
   "cell_type": "code",
   "execution_count": null,
   "metadata": {},
   "outputs": [],
   "source": []
  },
  {
   "cell_type": "markdown",
   "metadata": {},
   "source": [
    "#### Most and Least commited crimes by season"
   ]
  },
  {
   "cell_type": "code",
   "execution_count": null,
   "metadata": {},
   "outputs": [],
   "source": []
  },
  {
   "cell_type": "code",
   "execution_count": null,
   "metadata": {},
   "outputs": [],
   "source": [
    "# sns.lineplot(df_, x= )"
   ]
  }
 ],
 "metadata": {
  "kernelspec": {
   "display_name": "Python 3.10.6",
   "language": "python",
   "name": "python3"
  },
  "language_info": {
   "codemirror_mode": {
    "name": "ipython",
    "version": 3
   },
   "file_extension": ".py",
   "mimetype": "text/x-python",
   "name": "python",
   "nbconvert_exporter": "python",
   "pygments_lexer": "ipython3",
   "version": "3.10.6"
  },
  "orig_nbformat": 4,
  "vscode": {
   "interpreter": {
    "hash": "e6252da11d923c989ad3f033ba4e76ffe251d169eabb2b1c7b5bf998f6d300e4"
   }
  }
 },
 "nbformat": 4,
 "nbformat_minor": 2
}
