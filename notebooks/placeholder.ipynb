{
 "cells": [
  {
   "cell_type": "code",
   "execution_count": 71,
   "metadata": {},
   "outputs": [],
   "source": [
    "import pandas as pd\n",
    "import seaborn as sns"
   ]
  },
  {
   "cell_type": "code",
   "execution_count": 72,
   "metadata": {},
   "outputs": [],
   "source": [
    "df = pd.read_csv('..\\\\data\\\\NYPD_Complaint_Data_Historic.csv', low_memory= False, nrows= 100)"
   ]
  },
  {
   "cell_type": "markdown",
   "metadata": {},
   "source": [
    "### [Dataset](https://data.cityofnewyork.us/Public-Safety/NYPD-Complaint-Data-Historic/qgea-i56i) Description"
   ]
  },
  {
   "cell_type": "markdown",
   "metadata": {},
   "source": [
    "\n",
    "| Column Name | Description |\n",
    "| ----------- | ----------- |\n",
    "| CMPLNT_NUM | Randomly generated persistent ID for each complaint | \n",
    "| ADDR_PCT_CD | The precinct in which the incident occurred BORO The name of the borough in which the incident occurred |\n",
    "| CMPLNT_FR_DT | Exact date of occurrence for the reported event (or starting date of occurrence, if CMPLNT_TO_DT exists) |\n",
    "| CMPLNT_FR_TM | Exact time of occurrence for the reported event (or starting time of occurrence, if CMPLNT_TO_TM exists) |\n",
    "| CMPLNT_TO_DT | Ending date of occurrence for the reported event, if exact time of occurrence is unknown |\n",
    "| CMPLNT_TO_TM | Ending time of occurrence for the reported event, if exact time of occurrence is unknown |\n",
    "| CRM_ATPT_CPTD_CD | Indicator of whether crime was successfully completed or attempted, but failed or was interrupted prematurely |\n",
    "| HADEVELOPT | Name of NYCHA housing development of occurrence, if applicable |\n",
    "| HOUSING_PSA | Development Level Code |\n",
    "| JURISDICTION_CODE | Jurisdiction responsible for incident. Either internal, like Police(0), Transit(1), and Housing(2); or external(3), like Correction, Port Authority, etc. |\n",
    "| JURIS_DESC |  Description of the jurisdiction code |\n",
    "| KY_CD | Three digit offense classification code |\n",
    "| LAW_CAT_CD | Level of offense: felony, misdemeanor, violation |\n",
    "| LOC_OF_OCCUR_DESC | Specific location of occurrence in or around the premises; inside, opposite of, front of, rear of |\n",
    "| OFNS_DESC | Description of offense corresponding with key code |\n",
    "| PARKS_NM | Name of NYC park, playground or greenspace of occurrence, if applicable (state parks are not included) |\n",
    "| PATROL_BORO | The name of the patrol borough in which the incident occurred |\n",
    "| PD_CD | Three digit internal classification code (more granular than Key Code) |\n",
    "| PD_DESC | Description of internal classification corresponding with PD code (more granular than Offense Description) |\n",
    "| PREM_TYP_DESC |  Specific description of premises; grocery store, residence, street, etc. |\n",
    "| RPT_DT | Date event was reported to police  |\n",
    "| STATION_NAME | Transit station name |\n",
    "| SUSP_AGE_GROUP | Suspect’s Age Group |\n",
    "| SUSP_RACE | Suspect’s Race Description |\n",
    "| SUSP_SEX | Suspect’s Sex Description |\n",
    "| TRANSIT_DISTRICT | Transit district in which the offense occurred. |\n",
    "| VIC_AGE_GROUP | Victim’s Age Group |\n",
    "| VIC_RACE | Victim’s Race Description |\n",
    "| VIC_SEX | Victim’s Sex Description (D=Business/Organization, E=PSNY/People of the State of New York, F=Female, M=Male) |\n",
    "| X_COORD_CD | X-coordinate for New York State Plane Coordinate System, Long Island Zone, NAD 83, units feet (FIPS 3104) |\n",
    "| Y_COORD_CD | Y-coordinate for New York State Plane Coordinate System, Long Island Zone, NAD 83, units feet (FIPS 3104) |\n",
    "| Latitude | Midblock Latitude coordinate for Global Coordinate System, WGS 1984, decimal degrees (EPSG 4326) |\n",
    "| Longitude | Midblock Longitude coordinate for Global Coordinate System, WGS 1984, decimal degrees (EPSG 4326) |"
   ]
  },
  {
   "cell_type": "markdown",
   "metadata": {},
   "source": [
    "### Analysis"
   ]
  },
  {
   "cell_type": "code",
   "execution_count": 73,
   "metadata": {},
   "outputs": [
    {
     "name": "stdout",
     "output_type": "stream",
     "text": [
      "<class 'pandas.core.frame.DataFrame'>\n",
      "RangeIndex: 100 entries, 0 to 99\n",
      "Data columns (total 35 columns):\n",
      " #   Column             Non-Null Count  Dtype  \n",
      "---  ------             --------------  -----  \n",
      " 0   CMPLNT_NUM         100 non-null    int64  \n",
      " 1   CMPLNT_FR_DT       100 non-null    object \n",
      " 2   CMPLNT_FR_TM       100 non-null    object \n",
      " 3   CMPLNT_TO_DT       40 non-null     object \n",
      " 4   CMPLNT_TO_TM       40 non-null     object \n",
      " 5   ADDR_PCT_CD        98 non-null     float64\n",
      " 6   RPT_DT             100 non-null    object \n",
      " 7   KY_CD              100 non-null    int64  \n",
      " 8   OFNS_DESC          100 non-null    object \n",
      " 9   PD_CD              91 non-null     float64\n",
      " 10  PD_DESC            91 non-null     object \n",
      " 11  CRM_ATPT_CPTD_CD   100 non-null    object \n",
      " 12  LAW_CAT_CD         100 non-null    object \n",
      " 13  BORO_NM            91 non-null     object \n",
      " 14  LOC_OF_OCCUR_DESC  62 non-null     object \n",
      " 15  PREM_TYP_DESC      89 non-null     object \n",
      " 16  JURIS_DESC         100 non-null    object \n",
      " 17  JURISDICTION_CODE  91 non-null     float64\n",
      " 18  PARKS_NM           0 non-null      float64\n",
      " 19  HADEVELOPT         1 non-null      object \n",
      " 20  HOUSING_PSA        1 non-null      float64\n",
      " 21  X_COORD_CD         97 non-null     float64\n",
      " 22  Y_COORD_CD         97 non-null     float64\n",
      " 23  SUSP_AGE_GROUP     50 non-null     object \n",
      " 24  SUSP_RACE          51 non-null     object \n",
      " 25  SUSP_SEX           51 non-null     object \n",
      " 26  TRANSIT_DISTRICT   0 non-null      float64\n",
      " 27  Latitude           97 non-null     float64\n",
      " 28  Longitude          97 non-null     float64\n",
      " 29  Lat_Lon            97 non-null     object \n",
      " 30  PATROL_BORO        91 non-null     object \n",
      " 31  STATION_NAME       0 non-null      float64\n",
      " 32  VIC_AGE_GROUP      100 non-null    object \n",
      " 33  VIC_RACE           100 non-null    object \n",
      " 34  VIC_SEX            100 non-null    object \n",
      "dtypes: float64(11), int64(2), object(22)\n",
      "memory usage: 27.5+ KB\n"
     ]
    }
   ],
   "source": [
    "df.info()"
   ]
  },
  {
   "cell_type": "code",
   "execution_count": 74,
   "metadata": {},
   "outputs": [
    {
     "data": {
      "text/plain": [
       "CMPLNT_NUM             0\n",
       "CMPLNT_FR_DT           0\n",
       "CMPLNT_FR_TM           0\n",
       "CMPLNT_TO_DT          60\n",
       "CMPLNT_TO_TM          60\n",
       "ADDR_PCT_CD            2\n",
       "RPT_DT                 0\n",
       "KY_CD                  0\n",
       "OFNS_DESC              0\n",
       "PD_CD                  9\n",
       "PD_DESC                9\n",
       "CRM_ATPT_CPTD_CD       0\n",
       "LAW_CAT_CD             0\n",
       "BORO_NM                9\n",
       "LOC_OF_OCCUR_DESC     38\n",
       "PREM_TYP_DESC         11\n",
       "JURIS_DESC             0\n",
       "JURISDICTION_CODE      9\n",
       "PARKS_NM             100\n",
       "HADEVELOPT            99\n",
       "HOUSING_PSA           99\n",
       "X_COORD_CD             3\n",
       "Y_COORD_CD             3\n",
       "SUSP_AGE_GROUP        50\n",
       "SUSP_RACE             49\n",
       "SUSP_SEX              49\n",
       "TRANSIT_DISTRICT     100\n",
       "Latitude               3\n",
       "Longitude              3\n",
       "Lat_Lon                3\n",
       "PATROL_BORO            9\n",
       "STATION_NAME         100\n",
       "VIC_AGE_GROUP          0\n",
       "VIC_RACE               0\n",
       "VIC_SEX                0\n",
       "dtype: int64"
      ]
     },
     "execution_count": 74,
     "metadata": {},
     "output_type": "execute_result"
    }
   ],
   "source": [
    "df.isnull().sum()"
   ]
  },
  {
   "cell_type": "markdown",
   "metadata": {},
   "source": [
    "#### changing column data types"
   ]
  },
  {
   "cell_type": "code",
   "execution_count": 48,
   "metadata": {},
   "outputs": [],
   "source": [
    "# for col in df.columns:\n",
    "#     print(f'\\'{col}\\':\\'{df[col].dtype}\\'', end = ', ')\n",
    "\n",
    "# col_types = {'CMPLNT_NUM':'int64', 'CMPLNT_FR_DT':'object', 'CMPLNT_FR_TM':'object', 'CMPLNT_TO_DT':'object', 'CMPLNT_TO_TM':'object',\n",
    "#              'ADDR_PCT_CD':'int64', 'RPT_DT':'object', 'KY_CD':'int64', 'OFNS_DESC':'object', 'PD_CD':'int64', 'PD_DESC':'object', \n",
    "#              'CRM_ATPT_CPTD_CD':'object', 'LAW_CAT_CD':'object', 'BORO_NM':'object', 'LOC_OF_OCCUR_DESC':'object', 'PREM_TYP_DESC':'object', \n",
    "#              'JURIS_DESC':'object', 'JURISDICTION_CODE':'int64', 'PARKS_NM':'int64', 'HADEVELOPT':'object', 'HOUSING_PSA':'float64', \n",
    "#              'X_COORD_CD':'float64', 'Y_COORD_CD':'float64', 'SUSP_AGE_GROUP':'object', 'SUSP_RACE':'object', 'SUSP_SEX':'object', \n",
    "#              'TRANSIT_DISTRICT':'float64', 'Latitude':'float64', 'Longitude':'float64', 'Lat_Lon':'object', 'PATROL_BORO':'object', \n",
    "#              'STATION_NAME':'float64', 'VIC_AGE_GROUP':'object', 'VIC_RACE':'object', 'VIC_SEX':'object'}\n",
    "\n",
    "# df = df.astype(col_types)"
   ]
  },
  {
   "cell_type": "markdown",
   "metadata": {},
   "source": [
    "#### The most and least committed crimes"
   ]
  },
  {
   "cell_type": "code",
   "execution_count": 88,
   "metadata": {},
   "outputs": [
    {
     "data": {
      "text/plain": [
       "OFNS_DESC\n",
       "PETIT LARCENY                      20\n",
       "MURDER & NON-NEGL. MANSLAUGHTER     9\n",
       "RAPE                                9\n",
       "HARRASSMENT 2                       8\n",
       "SEX CRIMES                          6\n",
       "CRIMINAL MISCHIEF & RELATED OF      5\n",
       "FELONY ASSAULT                      5\n",
       "ASSAULT 3 & RELATED OFFENSES        5\n",
       "ROBBERY                             5\n",
       "BURGLARY                            4\n",
       "DANGEROUS WEAPONS                   4\n",
       "FORGERY                             4\n",
       "DANGEROUS DRUGS                     3\n",
       "GRAND LARCENY                       3\n",
       "GRAND LARCENY OF MOTOR VEHICLE      2\n",
       "THEFT-FRAUD                         1\n",
       "ARSON                               1\n",
       "OFFENSES INVOLVING FRAUD            1\n",
       "OFF. AGNST PUB ORD SENSBLTY &       1\n",
       "MISCELLANEOUS PENAL LAW             1\n",
       "FRAUDS                              1\n",
       "CRIMINAL TRESPASS                   1\n",
       "VEHICLE AND TRAFFIC LAWS            1\n",
       "Name: OFNS_DESC, dtype: int64"
      ]
     },
     "execution_count": 88,
     "metadata": {},
     "output_type": "execute_result"
    }
   ],
   "source": [
    "crime_type_count = df.groupby(['OFNS_DESC'])['OFNS_DESC'].count().sort_values(ascending= False)\n",
    "\n",
    "# crime_type_count = {}\n",
    "# for i in df.OFNS_DESC.to_list():\n",
    "#     if not i in crime_type_count:\n",
    "#         crime_type_count[i] = 0\n",
    "#     crime_type_count[i] += 1\n",
    "# crime_type_dict = dict(sorted(crime_type_dict.items(), key= lambda item: item[1], reverse= True))\n",
    "\n",
    "crime_type_count"
   ]
  },
  {
   "cell_type": "markdown",
   "metadata": {},
   "source": [
    "#### Tell me the most and least crime neighborhoods"
   ]
  },
  {
   "cell_type": "code",
   "execution_count": 93,
   "metadata": {},
   "outputs": [
    {
     "data": {
      "text/plain": [
       "BORO_NM\n",
       "STATEN ISLAND     5\n",
       "QUEENS           18\n",
       "MANHATTAN        20\n",
       "BROOKLYN          9\n",
       "BRONX            39\n",
       "Name: BORO_NM, dtype: int64"
      ]
     },
     "execution_count": 93,
     "metadata": {},
     "output_type": "execute_result"
    }
   ],
   "source": [
    "# OPTION 1: use borough\n",
    "df.groupby(['BORO_NM'])['BORO_NM'].count().sort_index(ascending= False)\n",
    "\n",
    "# OPTION 2: possibly use an external dataset of all precinct neighborhood locations, map to the complaint data\n"
   ]
  },
  {
   "cell_type": "markdown",
   "metadata": {},
   "source": [
    "#### Tell me the stations with the most crimes"
   ]
  },
  {
   "cell_type": "code",
   "execution_count": null,
   "metadata": {},
   "outputs": [],
   "source": []
  },
  {
   "cell_type": "markdown",
   "metadata": {},
   "source": [
    "#### Think of 3 other things you can ask your data."
   ]
  }
 ],
 "metadata": {
  "kernelspec": {
   "display_name": "Python 3.10.7 64-bit (microsoft store)",
   "language": "python",
   "name": "python3"
  },
  "language_info": {
   "codemirror_mode": {
    "name": "ipython",
    "version": 3
   },
   "file_extension": ".py",
   "mimetype": "text/x-python",
   "name": "python",
   "nbconvert_exporter": "python",
   "pygments_lexer": "ipython3",
   "version": "3.10.8"
  },
  "orig_nbformat": 4,
  "vscode": {
   "interpreter": {
    "hash": "a93a5bea36b3defe878d816dd7925d35ab2abd8903126becefe0d06d8deb3ff3"
   }
  }
 },
 "nbformat": 4,
 "nbformat_minor": 2
}
