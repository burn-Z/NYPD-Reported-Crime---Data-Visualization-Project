{
 "cells": [
  {
   "cell_type": "code",
   "execution_count": 2,
   "metadata": {},
   "outputs": [],
   "source": [
    "import numpy as np \n",
    "import pandas as pd \n",
    "import matplotlib.pyplot as plt\n",
    "import plotly.graph_objects as go\n",
    "import plotly.express as px\n",
    "pd.set_option('display.max_rows', None)\n",
    "import datetime\n",
    "from plotly.subplots import make_subplots"
   ]
  },
  {
   "cell_type": "code",
   "execution_count": 3,
   "metadata": {},
   "outputs": [],
   "source": [
    "df = pd.read_csv('..\\\\data\\\\NYPD_Complaint_Data_Historic.csv',\n",
    "                 low_memory= False,\n",
    "                #  nrows= 10000\n",
    "                 )"
   ]
  },
  {
   "cell_type": "markdown",
   "metadata": {},
   "source": [
    "### [Dataset](https://data.cityofnewyork.us/Public-Safety/NYPD-Complaint-Data-Historic/qgea-i56i) Description"
   ]
  },
  {
   "cell_type": "markdown",
   "metadata": {},
   "source": [
    "\n",
    "| Column Name | Description |\n",
    "| ----------- | ----------- |\n",
    "| CMPLNT_NUM | Randomly generated persistent ID for each complaint | \n",
    "| ADDR_PCT_CD | The precinct in which the incident occurred BORO The name of the borough in which the incident occurred |\n",
    "| CMPLNT_FR_DT | Exact date of occurrence for the reported event (or starting date of occurrence, if CMPLNT_TO_DT exists) |\n",
    "| CMPLNT_FR_TM | Exact time of occurrence for the reported event (or starting time of occurrence, if CMPLNT_TO_TM exists) |\n",
    "| CMPLNT_TO_DT | Ending date of occurrence for the reported event, if exact time of occurrence is unknown |\n",
    "| CMPLNT_TO_TM | Ending time of occurrence for the reported event, if exact time of occurrence is unknown |\n",
    "| CRM_ATPT_CPTD_CD | Indicator of whether crime was successfully completed or attempted, but failed or was interrupted prematurely |\n",
    "| HADEVELOPT | Name of NYCHA housing development of occurrence, if applicable |\n",
    "| HOUSING_PSA | Development Level Code |\n",
    "| JURISDICTION_CODE | Jurisdiction responsible for incident. Either internal, like Police(0), Transit(1), and Housing(2); or external(3), like Correction, Port Authority, etc. |\n",
    "| JURIS_DESC |  Description of the jurisdiction code |\n",
    "| KY_CD | Three digit offense classification code |\n",
    "| LAW_CAT_CD | Level of offense: felony, misdemeanor, violation |\n",
    "| LOC_OF_OCCUR_DESC | Specific location of occurrence in or around the premises; inside, opposite of, front of, rear of |\n",
    "| OFNS_DESC | Description of offense corresponding with key code |\n",
    "| PARKS_NM | Name of NYC park, playground or greenspace of occurrence, if applicable (state parks are not included) |\n",
    "| PATROL_BORO | The name of the patrol borough in which the incident occurred |\n",
    "| PD_CD | Three digit internal classification code (more granular than Key Code) |\n",
    "| PD_DESC | Description of internal classification corresponding with PD code (more granular than Offense Description) |\n",
    "| PREM_TYP_DESC |  Specific description of premises; grocery store, residence, street, etc. |\n",
    "| RPT_DT | Date event was reported to police  |\n",
    "| STATION_NAME | Transit station name |\n",
    "| SUSP_AGE_GROUP | Suspect’s Age Group |\n",
    "| SUSP_RACE | Suspect’s Race Description |\n",
    "| SUSP_SEX | Suspect’s Sex Description |\n",
    "| TRANSIT_DISTRICT | Transit district in which the offense occurred. |\n",
    "| VIC_AGE_GROUP | Victim’s Age Group |\n",
    "| VIC_RACE | Victim’s Race Description |\n",
    "| VIC_SEX | Victim’s Sex Description (D=Business/Organization, E=PSNY/People of the State of New York, F=Female, M=Male) |\n",
    "| X_COORD_CD | X-coordinate for New York State Plane Coordinate System, Long Island Zone, NAD 83, units feet (FIPS 3104) |\n",
    "| Y_COORD_CD | Y-coordinate for New York State Plane Coordinate System, Long Island Zone, NAD 83, units feet (FIPS 3104) |\n",
    "| Latitude | Midblock Latitude coordinate for Global Coordinate System, WGS 1984, decimal degrees (EPSG 4326) |\n",
    "| Longitude | Midblock Longitude coordinate for Global Coordinate System, WGS 1984, decimal degrees (EPSG 4326) |"
   ]
  },
  {
   "cell_type": "markdown",
   "metadata": {},
   "source": [
    "### Analysis"
   ]
  },
  {
   "cell_type": "code",
   "execution_count": null,
   "metadata": {},
   "outputs": [],
   "source": [
    "df.info()"
   ]
  },
  {
   "cell_type": "code",
   "execution_count": null,
   "metadata": {},
   "outputs": [],
   "source": [
    "df.isnull().sum()"
   ]
  },
  {
   "cell_type": "markdown",
   "metadata": {},
   "source": [
    "#### changing column data types"
   ]
  },
  {
   "cell_type": "code",
   "execution_count": null,
   "metadata": {},
   "outputs": [],
   "source": [
    "# for col in df.columns:\n",
    "#     print(f'\\'{col}\\':\\'{df[col].dtype}\\'', end = ', ')\n",
    "\n",
    "# col_types = {'CMPLNT_NUM':'int64', 'CMPLNT_FR_DT': 'datetime64[ns]', 'CMPLNT_FR_TM':'datetime64[ns]', 'CMPLNT_TO_DT':'datetime64[ns]', 'CMPLNT_TO_TM':'object',\n",
    "#              'ADDR_PCT_CD':'int64', 'RPT_DT':'object', 'KY_CD':'int64', 'OFNS_DESC':'object', 'PD_CD':'int64', 'PD_DESC':'object', \n",
    "#              'CRM_ATPT_CPTD_CD':'object', 'LAW_CAT_CD':'object', 'BORO_NM':'object', 'LOC_OF_OCCUR_DESC':'object', 'PREM_TYP_DESC':'object', \n",
    "#              'JURIS_DESC':'object', 'JURISDICTION_CODE':'int64', 'PARKS_NM':'int64', 'HADEVELOPT':'object', 'HOUSING_PSA':'float64', \n",
    "#              'X_COORD_CD':'float64', 'Y_COORD_CD':'float64', 'SUSP_AGE_GROUP':'object', 'SUSP_RACE':'object', 'SUSP_SEX':'object', \n",
    "#              'TRANSIT_DISTRICT':'float64', 'Latitude':'float64', 'Longitude':'float64', 'Lat_Lon':'object', 'PATROL_BORO':'object', \n",
    "#              'STATION_NAME':'float64', 'VIC_AGE_GROUP':'object', 'VIC_RACE':'object', 'VIC_SEX':'object'}\n",
    "\n",
    "# df = df.astype(col_types)\n",
    "\n",
    "\n",
    "df['CMPLNT_FR_DT'] = df['CMPLNT_FR_DT'].astype('datetime64[ns]')"
   ]
  },
  {
   "cell_type": "markdown",
   "metadata": {},
   "source": [
    "#### The most and least committed crimes"
   ]
  },
  {
   "cell_type": "code",
   "execution_count": null,
   "metadata": {},
   "outputs": [],
   "source": [
    "crime_type_count = df.groupby(['OFNS_DESC'])['OFNS_DESC'].count().sort_values(ascending= False)\n",
    "\n",
    "# crime_type_count = {}\n",
    "# for i in df.OFNS_DESC.to_list():\n",
    "#     if not i in crime_type_count:\n",
    "#         crime_type_count[i] = 0\n",
    "#     crime_type_count[i] += 1\n",
    "# crime_type_dict = dict(sorted(crime_type_dict.items(), key= lambda item: item[1], reverse= True))\n",
    "\n",
    "crime_type_count"
   ]
  },
  {
   "cell_type": "markdown",
   "metadata": {},
   "source": [
    "#### Tell me the most and least crime neighborhoods"
   ]
  },
  {
   "cell_type": "code",
   "execution_count": null,
   "metadata": {},
   "outputs": [],
   "source": [
    "# OPTION 1: use borough\n",
    "df.groupby(['BORO_NM'])['BORO_NM'].count().sort_values(ascending= False)\n",
    "\n",
    "# OPTION 2: possibly use an external dataset of all precinct neighborhood locations, map to the complaint data\n"
   ]
  },
  {
   "cell_type": "markdown",
   "metadata": {},
   "source": [
    "#### Tell me the stations with the most crimes"
   ]
  },
  {
   "cell_type": "code",
   "execution_count": null,
   "metadata": {},
   "outputs": [],
   "source": []
  },
  {
   "cell_type": "markdown",
   "metadata": {},
   "source": [
    "#### Most and Least commited crimes by season"
   ]
  },
  {
   "cell_type": "code",
   "execution_count": null,
   "metadata": {},
   "outputs": [],
   "source": [
    "df_ = df[df['CMPLNT_FR_DT'] >= '01/01/2020']\n",
    "df_ = df_[['CMPLNT_FR_DT', 'OFNS_DESC']].sort_values(by = 'CMPLNT_FR_DT')"
   ]
  },
  {
   "cell_type": "code",
   "execution_count": null,
   "metadata": {},
   "outputs": [],
   "source": [
    "# sns.lineplot(df_, x= )"
   ]
  },
  {
   "cell_type": "markdown",
   "metadata": {},
   "source": [
    "#### Treemap"
   ]
  },
  {
   "cell_type": "code",
   "execution_count": null,
   "metadata": {},
   "outputs": [],
   "source": [
    "# Credit to FEDI BEN MESSAOUD: https://www.kaggle.com/code/fedi1996/boston-crime-analysis-with-plotly\n",
    "def treemap(categories,title,path,values):\n",
    "    fig = px.treemap(categories, path=path, values=values, height=1000,\n",
    "                 title=title, color_discrete_sequence = px.colors.sequential.RdBu)\n",
    "    fig.data[0].textinfo = 'label+text+value'\n",
    "    fig.show()\n",
    "\n",
    "crime_count = df['OFNS_DESC'].value_counts()\n",
    "vals = crime_count.values\n",
    "\n",
    "categories = pd.DataFrame(data= crime_count.index, columns=[\"OFNS_DESC\"])\n",
    "categories['values'] = vals\n",
    "\n",
    "treemap(categories,'Crimes in New York',['OFNS_DESC'],categories['values'])"
   ]
  },
  {
   "cell_type": "code",
   "execution_count": null,
   "metadata": {},
   "outputs": [],
   "source": []
  }
 ],
 "metadata": {
  "kernelspec": {
   "display_name": "Python 3.10.7 64-bit (microsoft store)",
   "language": "python",
   "name": "python3"
  },
  "language_info": {
   "codemirror_mode": {
    "name": "ipython",
    "version": 3
   },
   "file_extension": ".py",
   "mimetype": "text/x-python",
   "name": "python",
   "nbconvert_exporter": "python",
   "pygments_lexer": "ipython3",
   "version": "3.10.8"
  },
  "orig_nbformat": 4,
  "vscode": {
   "interpreter": {
    "hash": "a93a5bea36b3defe878d816dd7925d35ab2abd8903126becefe0d06d8deb3ff3"
   }
  }
 },
 "nbformat": 4,
 "nbformat_minor": 2
}
