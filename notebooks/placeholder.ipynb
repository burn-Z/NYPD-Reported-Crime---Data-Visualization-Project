{
 "cells": [
  {
   "cell_type": "code",
   "execution_count": 4,
   "metadata": {},
   "outputs": [],
   "source": [
    "import numpy as np \n",
    "import pandas as pd \n",
    "import matplotlib.pyplot as plt\n",
    "import plotly.graph_objects as go\n",
    "import plotly.express as px\n",
    "pd.set_option('display.max_rows', None)\n",
    "import datetime\n",
    "from plotly.subplots import make_subplots"
   ]
  },
  {
   "cell_type": "markdown",
   "metadata": {},
   "source": [
    "#### [Dataset](https://data.cityofnewyork.us/Public-Safety/NYPD-Complaint-Data-Historic/qgea-i56i)"
   ]
  },
  {
   "cell_type": "markdown",
   "metadata": {},
   "source": [
    "#####  Column Description"
   ]
  },
  {
   "cell_type": "markdown",
   "metadata": {},
   "source": [
    "\n",
    "| Column Name | Description |\n",
    "| ----------- | ----------- |\n",
    "| CMPLNT_NUM | Randomly generated persistent ID for each complaint | \n",
    "| ADDR_PCT_CD | The precinct in which the incident occurred BORO The name of the borough in which the incident occurred |\n",
    "| CMPLNT_FR_DT | Exact date of occurrence for the reported event (or starting date of occurrence, if CMPLNT_TO_DT exists) |\n",
    "| CMPLNT_FR_TM | Exact time of occurrence for the reported event (or starting time of occurrence, if CMPLNT_TO_TM exists) |\n",
    "| CMPLNT_TO_DT | Ending date of occurrence for the reported event, if exact time of occurrence is unknown |\n",
    "| CMPLNT_TO_TM | Ending time of occurrence for the reported event, if exact time of occurrence is unknown |\n",
    "| CRM_ATPT_CPTD_CD | Indicator of whether crime was successfully completed or attempted, but failed or was interrupted prematurely |\n",
    "| HADEVELOPT | Name of NYCHA housing development of occurrence, if applicable |\n",
    "| HOUSING_PSA | Development Level Code |\n",
    "| JURISDICTION_CODE | Jurisdiction responsible for incident. Either internal, like Police(0), Transit(1), and Housing(2); or external(3), like Correction, Port Authority, etc. |\n",
    "| JURIS_DESC |  Description of the jurisdiction code |\n",
    "| KY_CD | Three digit offense classification code |\n",
    "| LAW_CAT_CD | Level of offense: felony, misdemeanor, violation |\n",
    "| LOC_OF_OCCUR_DESC | Specific location of occurrence in or around the premises; inside, opposite of, front of, rear of |\n",
    "| OFNS_DESC | Description of offense corresponding with key code |\n",
    "| PARKS_NM | Name of NYC park, playground or greenspace of occurrence, if applicable (state parks are not included) |\n",
    "| PATROL_BORO | The name of the patrol borough in which the incident occurred |\n",
    "| PD_CD | Three digit internal classification code (more granular than Key Code) |\n",
    "| PD_DESC | Description of internal classification corresponding with PD code (more granular than Offense Description) |\n",
    "| PREM_TYP_DESC |  Specific description of premises; grocery store, residence, street, etc. |\n",
    "| RPT_DT | Date event was reported to police  |\n",
    "| STATION_NAME | Transit station name |\n",
    "| SUSP_AGE_GROUP | Suspect’s Age Group |\n",
    "| SUSP_RACE | Suspect’s Race Description |\n",
    "| SUSP_SEX | Suspect’s Sex Description |\n",
    "| TRANSIT_DISTRICT | Transit district in which the offense occurred. |\n",
    "| VIC_AGE_GROUP | Victim’s Age Group |\n",
    "| VIC_RACE | Victim’s Race Description |\n",
    "| VIC_SEX | Victim’s Sex Description (D=Business/Organization, E=PSNY/People of the State of New York, F=Female, M=Male) |\n",
    "| X_COORD_CD | X-coordinate for New York State Plane Coordinate System, Long Island Zone, NAD 83, units feet (FIPS 3104) |\n",
    "| Y_COORD_CD | Y-coordinate for New York State Plane Coordinate System, Long Island Zone, NAD 83, units feet (FIPS 3104) |\n",
    "| Latitude | Midblock Latitude coordinate for Global Coordinate System, WGS 1984, decimal degrees (EPSG 4326) |\n",
    "| Longitude | Midblock Longitude coordinate for Global Coordinate System, WGS 1984, decimal degrees (EPSG 4326) |"
   ]
  },
  {
   "cell_type": "markdown",
   "metadata": {},
   "source": [
    "##### Loading data"
   ]
  },
  {
   "cell_type": "code",
   "execution_count": 5,
   "metadata": {},
   "outputs": [],
   "source": [
    "df = pd.read_csv('..\\\\data\\\\NYPD_Complaint_Data_Historic.csv',\n",
    "                 low_memory= False,\n",
    "                 nrows= 5,\n",
    "                parse_dates= [1],\n",
    "                index_col= 0\n",
    "                )\n",
    "\n",
    "# check what kind of date object cmplnt_fr_dt is\n",
    "# then use functions to extract each component for analysis"
   ]
  },
  {
   "cell_type": "code",
   "execution_count": 6,
   "metadata": {},
   "outputs": [
    {
     "data": {
      "text/plain": [
       "(5, 34)"
      ]
     },
     "execution_count": 6,
     "metadata": {},
     "output_type": "execute_result"
    }
   ],
   "source": [
    "df.shape"
   ]
  },
  {
   "cell_type": "code",
   "execution_count": 10,
   "metadata": {},
   "outputs": [],
   "source": [
    "df['DATE'] = pd.to_datetime(df['CMPLNT_FR_DT'])"
   ]
  },
  {
   "cell_type": "code",
   "execution_count": 11,
   "metadata": {},
   "outputs": [
    {
     "data": {
      "text/plain": [
       "CMPLNT_NUM\n",
       "506547392   2018-03-29\n",
       "629632833   2018-02-06\n",
       "787203902   2018-11-21\n",
       "280364018   2018-06-09\n",
       "985800320   2018-11-10\n",
       "Name: CMPLNT_FR_DT, dtype: datetime64[ns]"
      ]
     },
     "execution_count": 11,
     "metadata": {},
     "output_type": "execute_result"
    }
   ],
   "source": [
    "df['CMPLNT_FR_DT']"
   ]
  },
  {
   "cell_type": "code",
   "execution_count": 12,
   "metadata": {},
   "outputs": [
    {
     "data": {
      "text/plain": [
       "CMPLNT_NUM\n",
       "506547392   2018-03-29\n",
       "629632833   2018-02-06\n",
       "787203902   2018-11-21\n",
       "280364018   2018-06-09\n",
       "985800320   2018-11-10\n",
       "Name: DATE, dtype: datetime64[ns]"
      ]
     },
     "execution_count": 12,
     "metadata": {},
     "output_type": "execute_result"
    }
   ],
   "source": [
    "df.DATE"
   ]
  },
  {
   "cell_type": "markdown",
   "metadata": {},
   "source": [
    "### Analysis"
   ]
  },
  {
   "cell_type": "markdown",
   "metadata": {},
   "source": [
    "##### removing nulls and unnecessary columns"
   ]
  },
  {
   "cell_type": "code",
   "execution_count": null,
   "metadata": {},
   "outputs": [],
   "source": [
    "# Check percentage of nulls\n",
    "# df.isnull().sum() * 100 / len(df)"
   ]
  },
  {
   "cell_type": "code",
   "execution_count": null,
   "metadata": {},
   "outputs": [],
   "source": [
    "drop_cols = ['HADEVELOPT',  'STATION_NAME', 'HOUSING_PSA', 'SUSP_AGE_GROUP', 'SUSP_RACE', 'SUSP_SEX',\n",
    "            'TRANSIT_DISTRICT', 'STATION_NAME', 'VIC_AGE_GROUP', 'LOC_OF_OCCUR_DESC', 'JURIS_DESC']\n",
    "\n",
    "df.drop(labels= drop_cols, axis= 1, inplace= True)\n",
    "\n",
    "# dropping nulls, because dropna does not work in this case\n",
    "df = df.loc[~df['CMPLNT_FR_DT'].isnull()]"
   ]
  },
  {
   "cell_type": "markdown",
   "metadata": {},
   "source": [
    "##### Extract column data types to change them if needed"
   ]
  },
  {
   "cell_type": "code",
   "execution_count": null,
   "metadata": {},
   "outputs": [],
   "source": [
    "for col in df.columns:\n",
    "    print(f'\\'{col}\\':\\'{df[col].dtype}\\'', end = ', ')\n",
    "\n",
    "col_types = {\n",
    "\n",
    "}\n",
    "\n",
    "df = df.astype(col_types, errors = 'ignore')"
   ]
  },
  {
   "cell_type": "markdown",
   "metadata": {},
   "source": [
    "##### Subset data to reduce memory usage"
   ]
  },
  {
   "cell_type": "code",
   "execution_count": null,
   "metadata": {},
   "outputs": [],
   "source": [
    "A_df = df[['CMPLNT_NUM', 'OFNS_DESC', 'BORO_NM', 'CMPLNT_FR_DT']].copy(deep = True).sort_values(by= ['CMPLNT_FR_DT'])"
   ]
  },
  {
   "cell_type": "code",
   "execution_count": null,
   "metadata": {},
   "outputs": [],
   "source": [
    "def extract_year(mydat):\n",
    "    temp = int(str(mydat)[-4:])\n",
    "    return temp if temp >= 2006 else None\n",
    "\n",
    "def extract_month(mydat):\n",
    "    temp = int(str(mydat)[:2])\n",
    "\n",
    "    return temp\n",
    "\n",
    "def extract_day(mydat):\n",
    "    return int(str(mydat[2:5]))\n",
    "\n",
    "# extract the year from the complaint date\n",
    "# and if its before 2006, replace with None\n",
    "A_df['CMPLNT_FR_YR'] = A_df['CMPLNT_FR_DT'].apply(extract_year)\n",
    "\n",
    "# drop years before 2006\n",
    "A_df.dropna(inplace= True)\n",
    "\n",
    "# extract the month from the complaint date\n",
    "A_df['CMPLNT_FR_MTH'] = A_df['CMPLNT_FR_DT'].apply(extract_month)\n",
    "# A_df['year'] = pd.DatetimeIndex(A_df['CMPLNT_FR_DT']).year\n",
    "# A_df['month'] = A_df['CMPLNT_FR_DT'].dt.month\n",
    "\n",
    "A_df['CMPLNT_FR_DAY'] = A_df['CMPLNT_FR_DT'].apply(extract_day)"
   ]
  },
  {
   "cell_type": "code",
   "execution_count": null,
   "metadata": {},
   "outputs": [],
   "source": [
    "# Sanity check for extracted month and year\n",
    "print(A_df['CMPLNT_FR_YR'].unique())\n",
    "print(A_df['CMPLNT_FR_MTH'].unique())"
   ]
  },
  {
   "cell_type": "code",
   "execution_count": null,
   "metadata": {},
   "outputs": [],
   "source": [
    "A_df.head()"
   ]
  },
  {
   "cell_type": "code",
   "execution_count": null,
   "metadata": {},
   "outputs": [],
   "source": [
    "# create csv for subsetted data\n",
    "A_df.to_csv('..\\\\data\\\\neighbh_crime_dist.csv', columns= ['CMPLNT_NUM', 'OFNS_DESC', 'BORO_NM', 'CMPLNT_FR_YR', 'CMPLNT_FR_MTH'])"
   ]
  },
  {
   "cell_type": "markdown",
   "metadata": {},
   "source": [
    "#### V1: The most and least committed crimes"
   ]
  },
  {
   "cell_type": "code",
   "execution_count": null,
   "metadata": {},
   "outputs": [],
   "source": [
    "crime_type_count = A_df.groupby(['OFNS_DESC'])['OFNS_DESC'].count().sort_values(ascending= False)\n",
    "\n",
    "crime_type_count"
   ]
  },
  {
   "cell_type": "markdown",
   "metadata": {},
   "source": [
    "##### Treemap: Crime Distribution in New York\n",
    "* rebuild with law cat code"
   ]
  },
  {
   "cell_type": "code",
   "execution_count": null,
   "metadata": {},
   "outputs": [],
   "source": [
    "# Credit to FEDI BEN MESSAOUD: https://www.kaggle.com/code/fedi1996/boston-crime-analysis-with-plotly\n",
    "def treemap(categories,title,path,values):\n",
    "    fig = px.treemap(categories, path=path, values=values, height=1000,\n",
    "                 title=title, color_discrete_sequence = px.colors.sequential.RdBu)\n",
    "    fig.data[0].textinfo = 'label+text+value'\n",
    "    fig.show()\n",
    "\n",
    "crime_count = df['OFNS_DESC'].value_counts()\n",
    "vals = crime_count.values\n",
    "\n",
    "categories = pd.DataFrame(data= crime_count.index, columns=[\"OFNS_DESC\"])\n",
    "categories['values'] = vals\n",
    "\n",
    "treemap(categories,'Crimes in New York',['OFNS_DESC'],categories['values'])"
   ]
  },
  {
   "cell_type": "markdown",
   "metadata": {},
   "source": [
    "#### V2 The most and least crime neighborhoods\n",
    "- want to see how that changes every year\n",
    "    - pie chart"
   ]
  },
  {
   "cell_type": "code",
   "execution_count": 3,
   "metadata": {},
   "outputs": [],
   "source": [
    "# OPTION 1: use borough\n",
    "q2_df = pd.read_csv('..\\\\data\\\\neighbh_crime_dist.csv',\n",
    "                 low_memory= False,\n",
    "                # nrows= 500000,\n",
    "                # parse_dates= [1],\n",
    "                # index_col= 0\n",
    "                )\n"
   ]
  },
  {
   "cell_type": "code",
   "execution_count": null,
   "metadata": {},
   "outputs": [],
   "source": [
    "q2_df.shape"
   ]
  },
  {
   "cell_type": "code",
   "execution_count": null,
   "metadata": {},
   "outputs": [],
   "source": [
    "q2_df.groupby(['BORO_NM'])['BORO_NM'].count().sort_values(ascending= False) / len(A_df) * 100\n",
    "\n",
    "# OPTION 2: possibly use an external dataset of all precinct neighborhood locations, map to the complaint data"
   ]
  },
  {
   "cell_type": "code",
   "execution_count": null,
   "metadata": {},
   "outputs": [],
   "source": [
    "def show_neigh_crime_pie(t_df, year):\n",
    "    plt.figure()\n",
    "\n",
    "    selection = t_df[t_df['CMPLNT_FR_YR'].isin(year)]\n",
    "    ax = selection['BORO_NM'].value_counts().plot(kind= 'pie', autopct = \"%1.1f%%\")\n",
    "    ax.set_title(f'Distribution of Crime per Borough in {year}')\n",
    "\n",
    "    plt.show()"
   ]
  },
  {
   "cell_type": "code",
   "execution_count": null,
   "metadata": {},
   "outputs": [],
   "source": [
    "for y in range(2006,2022, 3):\n",
    "    show_neigh_crime_pie(q2_df, [y])"
   ]
  },
  {
   "cell_type": "markdown",
   "metadata": {},
   "source": [
    "#### The stations with the most crimes"
   ]
  },
  {
   "cell_type": "code",
   "execution_count": null,
   "metadata": {},
   "outputs": [],
   "source": []
  },
  {
   "cell_type": "markdown",
   "metadata": {},
   "source": [
    "#### Most and Least commited crimes by season"
   ]
  },
  {
   "cell_type": "code",
   "execution_count": null,
   "metadata": {},
   "outputs": [],
   "source": []
  },
  {
   "cell_type": "code",
   "execution_count": null,
   "metadata": {},
   "outputs": [],
   "source": [
    "# sns.lineplot(df_, x= )"
   ]
  }
 ],
 "metadata": {
  "kernelspec": {
   "display_name": "Python 3.10.6 ('ctp_env')",
   "language": "python",
   "name": "python3"
  },
  "language_info": {
   "codemirror_mode": {
    "name": "ipython",
    "version": 3
   },
   "file_extension": ".py",
   "mimetype": "text/x-python",
   "name": "python",
   "nbconvert_exporter": "python",
   "pygments_lexer": "ipython3",
   "version": "3.10.6"
  },
  "orig_nbformat": 4,
  "vscode": {
   "interpreter": {
    "hash": "bbab468f066a0501c97dbbba9bcd92bef32a2809af731c345976ef4dae436a78"
   }
  }
 },
 "nbformat": 4,
 "nbformat_minor": 2
}
