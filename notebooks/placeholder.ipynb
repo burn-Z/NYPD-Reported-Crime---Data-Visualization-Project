{
 "cells": [
  {
   "cell_type": "code",
   "execution_count": 2,
   "metadata": {},
   "outputs": [],
   "source": [
    "import numpy as np \n",
    "import pandas as pd \n",
    "import matplotlib.pyplot as plt\n",
    "import plotly.graph_objects as go\n",
    "import plotly.express as px\n",
    "pd.set_option('display.max_rows', None)\n",
    "import datetime\n",
    "from plotly.subplots import make_subplots"
   ]
  },
  {
   "cell_type": "code",
   "execution_count": 3,
   "metadata": {},
   "outputs": [],
   "source": [
    "df = pd.read_csv('..\\\\data\\\\NYPD_Complaint_Data_Historic.csv', low_memory= False, nrows= 10000)"
   ]
  },
  {
   "cell_type": "markdown",
   "metadata": {},
   "source": [
    "### [Dataset](https://data.cityofnewyork.us/Public-Safety/NYPD-Complaint-Data-Historic/qgea-i56i) Description"
   ]
  },
  {
   "cell_type": "markdown",
   "metadata": {},
   "source": [
    "\n",
    "| Column Name | Description |\n",
    "| ----------- | ----------- |\n",
    "| CMPLNT_NUM | Randomly generated persistent ID for each complaint | \n",
    "| ADDR_PCT_CD | The precinct in which the incident occurred BORO The name of the borough in which the incident occurred |\n",
    "| CMPLNT_FR_DT | Exact date of occurrence for the reported event (or starting date of occurrence, if CMPLNT_TO_DT exists) |\n",
    "| CMPLNT_FR_TM | Exact time of occurrence for the reported event (or starting time of occurrence, if CMPLNT_TO_TM exists) |\n",
    "| CMPLNT_TO_DT | Ending date of occurrence for the reported event, if exact time of occurrence is unknown |\n",
    "| CMPLNT_TO_TM | Ending time of occurrence for the reported event, if exact time of occurrence is unknown |\n",
    "| CRM_ATPT_CPTD_CD | Indicator of whether crime was successfully completed or attempted, but failed or was interrupted prematurely |\n",
    "| HADEVELOPT | Name of NYCHA housing development of occurrence, if applicable |\n",
    "| HOUSING_PSA | Development Level Code |\n",
    "| JURISDICTION_CODE | Jurisdiction responsible for incident. Either internal, like Police(0), Transit(1), and Housing(2); or external(3), like Correction, Port Authority, etc. |\n",
    "| JURIS_DESC |  Description of the jurisdiction code |\n",
    "| KY_CD | Three digit offense classification code |\n",
    "| LAW_CAT_CD | Level of offense: felony, misdemeanor, violation |\n",
    "| LOC_OF_OCCUR_DESC | Specific location of occurrence in or around the premises; inside, opposite of, front of, rear of |\n",
    "| OFNS_DESC | Description of offense corresponding with key code |\n",
    "| PARKS_NM | Name of NYC park, playground or greenspace of occurrence, if applicable (state parks are not included) |\n",
    "| PATROL_BORO | The name of the patrol borough in which the incident occurred |\n",
    "| PD_CD | Three digit internal classification code (more granular than Key Code) |\n",
    "| PD_DESC | Description of internal classification corresponding with PD code (more granular than Offense Description) |\n",
    "| PREM_TYP_DESC |  Specific description of premises; grocery store, residence, street, etc. |\n",
    "| RPT_DT | Date event was reported to police  |\n",
    "| STATION_NAME | Transit station name |\n",
    "| SUSP_AGE_GROUP | Suspect’s Age Group |\n",
    "| SUSP_RACE | Suspect’s Race Description |\n",
    "| SUSP_SEX | Suspect’s Sex Description |\n",
    "| TRANSIT_DISTRICT | Transit district in which the offense occurred. |\n",
    "| VIC_AGE_GROUP | Victim’s Age Group |\n",
    "| VIC_RACE | Victim’s Race Description |\n",
    "| VIC_SEX | Victim’s Sex Description (D=Business/Organization, E=PSNY/People of the State of New York, F=Female, M=Male) |\n",
    "| X_COORD_CD | X-coordinate for New York State Plane Coordinate System, Long Island Zone, NAD 83, units feet (FIPS 3104) |\n",
    "| Y_COORD_CD | Y-coordinate for New York State Plane Coordinate System, Long Island Zone, NAD 83, units feet (FIPS 3104) |\n",
    "| Latitude | Midblock Latitude coordinate for Global Coordinate System, WGS 1984, decimal degrees (EPSG 4326) |\n",
    "| Longitude | Midblock Longitude coordinate for Global Coordinate System, WGS 1984, decimal degrees (EPSG 4326) |"
   ]
  },
  {
   "cell_type": "markdown",
   "metadata": {},
   "source": [
    "### Analysis"
   ]
  },
  {
   "cell_type": "code",
   "execution_count": 4,
   "metadata": {},
   "outputs": [
    {
     "name": "stdout",
     "output_type": "stream",
     "text": [
      "<class 'pandas.core.frame.DataFrame'>\n",
      "RangeIndex: 10000 entries, 0 to 9999\n",
      "Data columns (total 35 columns):\n",
      " #   Column             Non-Null Count  Dtype  \n",
      "---  ------             --------------  -----  \n",
      " 0   CMPLNT_NUM         10000 non-null  int64  \n",
      " 1   CMPLNT_FR_DT       10000 non-null  object \n",
      " 2   CMPLNT_FR_TM       10000 non-null  object \n",
      " 3   CMPLNT_TO_DT       8385 non-null   object \n",
      " 4   CMPLNT_TO_TM       8393 non-null   object \n",
      " 5   ADDR_PCT_CD        9992 non-null   float64\n",
      " 6   RPT_DT             10000 non-null  object \n",
      " 7   KY_CD              10000 non-null  int64  \n",
      " 8   OFNS_DESC          10000 non-null  object \n",
      " 9   PD_CD              9912 non-null   float64\n",
      " 10  PD_DESC            9912 non-null   object \n",
      " 11  CRM_ATPT_CPTD_CD   10000 non-null  object \n",
      " 12  LAW_CAT_CD         10000 non-null  object \n",
      " 13  BORO_NM            9911 non-null   object \n",
      " 14  LOC_OF_OCCUR_DESC  8274 non-null   object \n",
      " 15  PREM_TYP_DESC      9888 non-null   object \n",
      " 16  JURIS_DESC         10000 non-null  object \n",
      " 17  JURISDICTION_CODE  9912 non-null   float64\n",
      " 18  PARKS_NM           34 non-null     object \n",
      " 19  HADEVELOPT         475 non-null    object \n",
      " 20  HOUSING_PSA        705 non-null    float64\n",
      " 21  X_COORD_CD         9982 non-null   float64\n",
      " 22  Y_COORD_CD         9982 non-null   float64\n",
      " 23  SUSP_AGE_GROUP     7263 non-null   object \n",
      " 24  SUSP_RACE          7267 non-null   object \n",
      " 25  SUSP_SEX           7266 non-null   object \n",
      " 26  TRANSIT_DISTRICT   218 non-null    float64\n",
      " 27  Latitude           9982 non-null   float64\n",
      " 28  Longitude          9982 non-null   float64\n",
      " 29  Lat_Lon            9982 non-null   object \n",
      " 30  PATROL_BORO        9912 non-null   object \n",
      " 31  STATION_NAME       218 non-null    object \n",
      " 32  VIC_AGE_GROUP      9992 non-null   object \n",
      " 33  VIC_RACE           10000 non-null  object \n",
      " 34  VIC_SEX            10000 non-null  object \n",
      "dtypes: float64(9), int64(2), object(24)\n",
      "memory usage: 2.7+ MB\n"
     ]
    }
   ],
   "source": [
    "df.info()"
   ]
  },
  {
   "cell_type": "code",
   "execution_count": 5,
   "metadata": {},
   "outputs": [
    {
     "data": {
      "text/plain": [
       "CMPLNT_NUM              0\n",
       "CMPLNT_FR_DT            0\n",
       "CMPLNT_FR_TM            0\n",
       "CMPLNT_TO_DT         1615\n",
       "CMPLNT_TO_TM         1607\n",
       "ADDR_PCT_CD             8\n",
       "RPT_DT                  0\n",
       "KY_CD                   0\n",
       "OFNS_DESC               0\n",
       "PD_CD                  88\n",
       "PD_DESC                88\n",
       "CRM_ATPT_CPTD_CD        0\n",
       "LAW_CAT_CD              0\n",
       "BORO_NM                89\n",
       "LOC_OF_OCCUR_DESC    1726\n",
       "PREM_TYP_DESC         112\n",
       "JURIS_DESC              0\n",
       "JURISDICTION_CODE      88\n",
       "PARKS_NM             9966\n",
       "HADEVELOPT           9525\n",
       "HOUSING_PSA          9295\n",
       "X_COORD_CD             18\n",
       "Y_COORD_CD             18\n",
       "SUSP_AGE_GROUP       2737\n",
       "SUSP_RACE            2733\n",
       "SUSP_SEX             2734\n",
       "TRANSIT_DISTRICT     9782\n",
       "Latitude               18\n",
       "Longitude              18\n",
       "Lat_Lon                18\n",
       "PATROL_BORO            88\n",
       "STATION_NAME         9782\n",
       "VIC_AGE_GROUP           8\n",
       "VIC_RACE                0\n",
       "VIC_SEX                 0\n",
       "dtype: int64"
      ]
     },
     "execution_count": 5,
     "metadata": {},
     "output_type": "execute_result"
    }
   ],
   "source": [
    "df.isnull().sum()"
   ]
  },
  {
   "cell_type": "markdown",
   "metadata": {},
   "source": [
    "#### changing column data types"
   ]
  },
  {
   "cell_type": "code",
   "execution_count": 4,
   "metadata": {},
   "outputs": [],
   "source": [
    "# for col in df.columns:\n",
    "#     print(f'\\'{col}\\':\\'{df[col].dtype}\\'', end = ', ')\n",
    "\n",
    "# col_types = {'CMPLNT_NUM':'int64', 'CMPLNT_FR_DT': 'datetime64[ns]', 'CMPLNT_FR_TM':'datetime64[ns]', 'CMPLNT_TO_DT':'datetime64[ns]', 'CMPLNT_TO_TM':'object',\n",
    "#              'ADDR_PCT_CD':'int64', 'RPT_DT':'object', 'KY_CD':'int64', 'OFNS_DESC':'object', 'PD_CD':'int64', 'PD_DESC':'object', \n",
    "#              'CRM_ATPT_CPTD_CD':'object', 'LAW_CAT_CD':'object', 'BORO_NM':'object', 'LOC_OF_OCCUR_DESC':'object', 'PREM_TYP_DESC':'object', \n",
    "#              'JURIS_DESC':'object', 'JURISDICTION_CODE':'int64', 'PARKS_NM':'int64', 'HADEVELOPT':'object', 'HOUSING_PSA':'float64', \n",
    "#              'X_COORD_CD':'float64', 'Y_COORD_CD':'float64', 'SUSP_AGE_GROUP':'object', 'SUSP_RACE':'object', 'SUSP_SEX':'object', \n",
    "#              'TRANSIT_DISTRICT':'float64', 'Latitude':'float64', 'Longitude':'float64', 'Lat_Lon':'object', 'PATROL_BORO':'object', \n",
    "#              'STATION_NAME':'float64', 'VIC_AGE_GROUP':'object', 'VIC_RACE':'object', 'VIC_SEX':'object'}\n",
    "\n",
    "# df = df.astype(col_types)\n",
    "\n",
    "\n",
    "df['CMPLNT_FR_DT'] = df['CMPLNT_FR_DT'].astype('datetime64[ns]')"
   ]
  },
  {
   "cell_type": "markdown",
   "metadata": {},
   "source": [
    "#### The most and least committed crimes"
   ]
  },
  {
   "cell_type": "code",
   "execution_count": 6,
   "metadata": {},
   "outputs": [
    {
     "data": {
      "text/plain": [
       "OFNS_DESC\n",
       "PETIT LARCENY                           2166\n",
       "HARRASSMENT 2                           1599\n",
       "ASSAULT 3 & RELATED OFFENSES            1134\n",
       "CRIMINAL MISCHIEF & RELATED OF           935\n",
       "GRAND LARCENY                            866\n",
       "FELONY ASSAULT                           446\n",
       "ROBBERY                                  384\n",
       "MISCELLANEOUS PENAL LAW                  298\n",
       "OFF. AGNST PUB ORD SENSBLTY &            296\n",
       "BURGLARY                                 295\n",
       "DANGEROUS DRUGS                          184\n",
       "SEX CRIMES                               155\n",
       "VEHICLE AND TRAFFIC LAWS                 154\n",
       "GRAND LARCENY OF MOTOR VEHICLE           144\n",
       "OFFENSES AGAINST PUBLIC ADMINI           135\n",
       "DANGEROUS WEAPONS                        114\n",
       "FORGERY                                  104\n",
       "MURDER & NON-NEGL. MANSLAUGHTER           88\n",
       "INTOXICATED & IMPAIRED DRIVING            76\n",
       "THEFT-FRAUD                               72\n",
       "RAPE                                      58\n",
       "CRIMINAL TRESPASS                         51\n",
       "FRAUDS                                    38\n",
       "POSSESSION OF STOLEN PROPERTY             26\n",
       "OTHER OFFENSES RELATED TO THEF            25\n",
       "OFFENSES AGAINST THE PERSON               25\n",
       "ADMINISTRATIVE CODE                       25\n",
       "ARSON                                     24\n",
       "UNAUTHORIZED USE OF A VEHICLE             23\n",
       "THEFT OF SERVICES                         20\n",
       "OFFENSES INVOLVING FRAUD                  19\n",
       "NYS LAWS-UNCLASSIFIED FELONY               6\n",
       "AGRICULTURE & MRKTS LAW-UNCLASSIFIED       3\n",
       "BURGLAR'S TOOLS                            3\n",
       "OTHER STATE LAWS (NON PENAL LA             2\n",
       "ESCAPE 3                                   2\n",
       "OFFENSES AGAINST PUBLIC SAFETY             1\n",
       "ENDAN WELFARE INCOMP                       1\n",
       "FRAUDULENT ACCOSTING                       1\n",
       "KIDNAPPING & RELATED OFFENSES              1\n",
       "GAMBLING                                   1\n",
       "Name: OFNS_DESC, dtype: int64"
      ]
     },
     "execution_count": 6,
     "metadata": {},
     "output_type": "execute_result"
    }
   ],
   "source": [
    "crime_type_count = df.groupby(['OFNS_DESC'])['OFNS_DESC'].count().sort_values(ascending= False)\n",
    "\n",
    "# crime_type_count = {}\n",
    "# for i in df.OFNS_DESC.to_list():\n",
    "#     if not i in crime_type_count:\n",
    "#         crime_type_count[i] = 0\n",
    "#     crime_type_count[i] += 1\n",
    "# crime_type_dict = dict(sorted(crime_type_dict.items(), key= lambda item: item[1], reverse= True))\n",
    "\n",
    "crime_type_count"
   ]
  },
  {
   "cell_type": "markdown",
   "metadata": {},
   "source": [
    "#### Tell me the most and least crime neighborhoods"
   ]
  },
  {
   "cell_type": "code",
   "execution_count": 7,
   "metadata": {},
   "outputs": [
    {
     "data": {
      "text/plain": [
       "BORO_NM\n",
       "BROOKLYN         2701\n",
       "BRONX            2450\n",
       "MANHATTAN        2354\n",
       "QUEENS           2023\n",
       "STATEN ISLAND     383\n",
       "Name: BORO_NM, dtype: int64"
      ]
     },
     "execution_count": 7,
     "metadata": {},
     "output_type": "execute_result"
    }
   ],
   "source": [
    "# OPTION 1: use borough\n",
    "df.groupby(['BORO_NM'])['BORO_NM'].count().sort_values(ascending= False)\n",
    "\n",
    "# OPTION 2: possibly use an external dataset of all precinct neighborhood locations, map to the complaint data\n"
   ]
  },
  {
   "cell_type": "markdown",
   "metadata": {},
   "source": [
    "#### Tell me the stations with the most crimes"
   ]
  },
  {
   "cell_type": "code",
   "execution_count": null,
   "metadata": {},
   "outputs": [],
   "source": []
  },
  {
   "cell_type": "markdown",
   "metadata": {},
   "source": [
    "#### Think of 3 other things you can ask your data.\n",
    "- most and least commited crimes by season\n",
    "-"
   ]
  },
  {
   "cell_type": "code",
   "execution_count": null,
   "metadata": {},
   "outputs": [],
   "source": []
  },
  {
   "cell_type": "code",
   "execution_count": 5,
   "metadata": {},
   "outputs": [],
   "source": [
    "df_ = df[df['CMPLNT_FR_DT'] > '01/01/2019']\n",
    "df_ = df_[['CMPLNT_FR_DT', 'OFNS_DESC']].sort_values(by = 'CMPLNT_FR_DT')"
   ]
  },
  {
   "cell_type": "code",
   "execution_count": 36,
   "metadata": {},
   "outputs": [
    {
     "data": {
      "text/html": [
       "<div>\n",
       "<style scoped>\n",
       "    .dataframe tbody tr th:only-of-type {\n",
       "        vertical-align: middle;\n",
       "    }\n",
       "\n",
       "    .dataframe tbody tr th {\n",
       "        vertical-align: top;\n",
       "    }\n",
       "\n",
       "    .dataframe thead th {\n",
       "        text-align: right;\n",
       "    }\n",
       "</style>\n",
       "<table border=\"1\" class=\"dataframe\">\n",
       "  <thead>\n",
       "    <tr style=\"text-align: right;\">\n",
       "      <th></th>\n",
       "      <th>CMPLNT_FR_DT</th>\n",
       "      <th>OFNS_DESC</th>\n",
       "    </tr>\n",
       "  </thead>\n",
       "  <tbody>\n",
       "    <tr>\n",
       "      <th>1104</th>\n",
       "      <td>2019-01-02</td>\n",
       "      <td>SEX CRIMES</td>\n",
       "    </tr>\n",
       "    <tr>\n",
       "      <th>4294</th>\n",
       "      <td>2019-01-02</td>\n",
       "      <td>ASSAULT 3 &amp; RELATED OFFENSES</td>\n",
       "    </tr>\n",
       "    <tr>\n",
       "      <th>1103</th>\n",
       "      <td>2019-01-02</td>\n",
       "      <td>HARRASSMENT 2</td>\n",
       "    </tr>\n",
       "    <tr>\n",
       "      <th>1102</th>\n",
       "      <td>2019-01-02</td>\n",
       "      <td>PETIT LARCENY</td>\n",
       "    </tr>\n",
       "    <tr>\n",
       "      <th>1106</th>\n",
       "      <td>2019-01-02</td>\n",
       "      <td>VEHICLE AND TRAFFIC LAWS</td>\n",
       "    </tr>\n",
       "  </tbody>\n",
       "</table>\n",
       "</div>"
      ],
      "text/plain": [
       "     CMPLNT_FR_DT                     OFNS_DESC\n",
       "1104   2019-01-02                    SEX CRIMES\n",
       "4294   2019-01-02  ASSAULT 3 & RELATED OFFENSES\n",
       "1103   2019-01-02                 HARRASSMENT 2\n",
       "1102   2019-01-02                 PETIT LARCENY\n",
       "1106   2019-01-02      VEHICLE AND TRAFFIC LAWS"
      ]
     },
     "execution_count": 36,
     "metadata": {},
     "output_type": "execute_result"
    }
   ],
   "source": [
    "sns.lineplot(df_, x= )"
   ]
  },
  {
   "cell_type": "code",
   "execution_count": 8,
   "metadata": {},
   "outputs": [
    {
     "data": {
      "application/vnd.plotly.v1+json": {
       "config": {
        "plotlyServerURL": "https://plot.ly"
       },
       "data": [
        {
         "branchvalues": "total",
         "domain": {
          "x": [
           0,
           1
          ],
          "y": [
           0,
           1
          ]
         },
         "hovertemplate": "labels=%{label}<br>value=%{value}<br>parent=%{parent}<br>id=%{id}<extra></extra>",
         "ids": [
          "ADMINISTRATIVE CODE",
          "AGRICULTURE & MRKTS LAW-UNCLASSIFIED",
          "ARSON",
          "ASSAULT 3 & RELATED OFFENSES",
          "BURGLAR'S TOOLS",
          "BURGLARY",
          "CRIMINAL MISCHIEF & RELATED OF",
          "CRIMINAL TRESPASS",
          "DANGEROUS DRUGS",
          "DANGEROUS WEAPONS",
          "ENDAN WELFARE INCOMP",
          "ESCAPE 3",
          "FELONY ASSAULT",
          "FORGERY",
          "FRAUDS",
          "FRAUDULENT ACCOSTING",
          "GAMBLING",
          "GRAND LARCENY",
          "GRAND LARCENY OF MOTOR VEHICLE",
          "HARRASSMENT 2",
          "INTOXICATED & IMPAIRED DRIVING",
          "KIDNAPPING & RELATED OFFENSES",
          "MISCELLANEOUS PENAL LAW",
          "MURDER & NON-NEGL. MANSLAUGHTER",
          "NYS LAWS-UNCLASSIFIED FELONY",
          "OFF. AGNST PUB ORD SENSBLTY &",
          "OFFENSES AGAINST PUBLIC ADMINI",
          "OFFENSES AGAINST PUBLIC SAFETY",
          "OFFENSES AGAINST THE PERSON",
          "OFFENSES INVOLVING FRAUD",
          "OTHER OFFENSES RELATED TO THEF",
          "OTHER STATE LAWS (NON PENAL LA",
          "PETIT LARCENY",
          "POSSESSION OF STOLEN PROPERTY",
          "RAPE",
          "ROBBERY",
          "SEX CRIMES",
          "THEFT OF SERVICES",
          "THEFT-FRAUD",
          "UNAUTHORIZED USE OF A VEHICLE",
          "VEHICLE AND TRAFFIC LAWS"
         ],
         "labels": [
          "ADMINISTRATIVE CODE",
          "AGRICULTURE & MRKTS LAW-UNCLASSIFIED",
          "ARSON",
          "ASSAULT 3 & RELATED OFFENSES",
          "BURGLAR'S TOOLS",
          "BURGLARY",
          "CRIMINAL MISCHIEF & RELATED OF",
          "CRIMINAL TRESPASS",
          "DANGEROUS DRUGS",
          "DANGEROUS WEAPONS",
          "ENDAN WELFARE INCOMP",
          "ESCAPE 3",
          "FELONY ASSAULT",
          "FORGERY",
          "FRAUDS",
          "FRAUDULENT ACCOSTING",
          "GAMBLING",
          "GRAND LARCENY",
          "GRAND LARCENY OF MOTOR VEHICLE",
          "HARRASSMENT 2",
          "INTOXICATED & IMPAIRED DRIVING",
          "KIDNAPPING & RELATED OFFENSES",
          "MISCELLANEOUS PENAL LAW",
          "MURDER & NON-NEGL. MANSLAUGHTER",
          "NYS LAWS-UNCLASSIFIED FELONY",
          "OFF. AGNST PUB ORD SENSBLTY &",
          "OFFENSES AGAINST PUBLIC ADMINI",
          "OFFENSES AGAINST PUBLIC SAFETY",
          "OFFENSES AGAINST THE PERSON",
          "OFFENSES INVOLVING FRAUD",
          "OTHER OFFENSES RELATED TO THEF",
          "OTHER STATE LAWS (NON PENAL LA",
          "PETIT LARCENY",
          "POSSESSION OF STOLEN PROPERTY",
          "RAPE",
          "ROBBERY",
          "SEX CRIMES",
          "THEFT OF SERVICES",
          "THEFT-FRAUD",
          "UNAUTHORIZED USE OF A VEHICLE",
          "VEHICLE AND TRAFFIC LAWS"
         ],
         "name": "",
         "parents": [
          "",
          "",
          "",
          "",
          "",
          "",
          "",
          "",
          "",
          "",
          "",
          "",
          "",
          "",
          "",
          "",
          "",
          "",
          "",
          "",
          "",
          "",
          "",
          "",
          "",
          "",
          "",
          "",
          "",
          "",
          "",
          "",
          "",
          "",
          "",
          "",
          "",
          "",
          "",
          "",
          ""
         ],
         "textinfo": "label+text+value",
         "type": "treemap",
         "values": [
          25,
          3,
          24,
          1133,
          3,
          294,
          928,
          51,
          180,
          112,
          1,
          2,
          444,
          97,
          36,
          1,
          1,
          853,
          144,
          1592,
          76,
          1,
          298,
          65,
          5,
          292,
          135,
          1,
          25,
          19,
          25,
          2,
          2160,
          26,
          45,
          384,
          131,
          20,
          68,
          23,
          153
         ]
        }
       ],
       "layout": {
        "height": 700,
        "legend": {
         "tracegroupgap": 0
        },
        "template": {
         "data": {
          "bar": [
           {
            "error_x": {
             "color": "#2a3f5f"
            },
            "error_y": {
             "color": "#2a3f5f"
            },
            "marker": {
             "line": {
              "color": "#E5ECF6",
              "width": 0.5
             },
             "pattern": {
              "fillmode": "overlay",
              "size": 10,
              "solidity": 0.2
             }
            },
            "type": "bar"
           }
          ],
          "barpolar": [
           {
            "marker": {
             "line": {
              "color": "#E5ECF6",
              "width": 0.5
             },
             "pattern": {
              "fillmode": "overlay",
              "size": 10,
              "solidity": 0.2
             }
            },
            "type": "barpolar"
           }
          ],
          "carpet": [
           {
            "aaxis": {
             "endlinecolor": "#2a3f5f",
             "gridcolor": "white",
             "linecolor": "white",
             "minorgridcolor": "white",
             "startlinecolor": "#2a3f5f"
            },
            "baxis": {
             "endlinecolor": "#2a3f5f",
             "gridcolor": "white",
             "linecolor": "white",
             "minorgridcolor": "white",
             "startlinecolor": "#2a3f5f"
            },
            "type": "carpet"
           }
          ],
          "choropleth": [
           {
            "colorbar": {
             "outlinewidth": 0,
             "ticks": ""
            },
            "type": "choropleth"
           }
          ],
          "contour": [
           {
            "colorbar": {
             "outlinewidth": 0,
             "ticks": ""
            },
            "colorscale": [
             [
              0,
              "#0d0887"
             ],
             [
              0.1111111111111111,
              "#46039f"
             ],
             [
              0.2222222222222222,
              "#7201a8"
             ],
             [
              0.3333333333333333,
              "#9c179e"
             ],
             [
              0.4444444444444444,
              "#bd3786"
             ],
             [
              0.5555555555555556,
              "#d8576b"
             ],
             [
              0.6666666666666666,
              "#ed7953"
             ],
             [
              0.7777777777777778,
              "#fb9f3a"
             ],
             [
              0.8888888888888888,
              "#fdca26"
             ],
             [
              1,
              "#f0f921"
             ]
            ],
            "type": "contour"
           }
          ],
          "contourcarpet": [
           {
            "colorbar": {
             "outlinewidth": 0,
             "ticks": ""
            },
            "type": "contourcarpet"
           }
          ],
          "heatmap": [
           {
            "colorbar": {
             "outlinewidth": 0,
             "ticks": ""
            },
            "colorscale": [
             [
              0,
              "#0d0887"
             ],
             [
              0.1111111111111111,
              "#46039f"
             ],
             [
              0.2222222222222222,
              "#7201a8"
             ],
             [
              0.3333333333333333,
              "#9c179e"
             ],
             [
              0.4444444444444444,
              "#bd3786"
             ],
             [
              0.5555555555555556,
              "#d8576b"
             ],
             [
              0.6666666666666666,
              "#ed7953"
             ],
             [
              0.7777777777777778,
              "#fb9f3a"
             ],
             [
              0.8888888888888888,
              "#fdca26"
             ],
             [
              1,
              "#f0f921"
             ]
            ],
            "type": "heatmap"
           }
          ],
          "heatmapgl": [
           {
            "colorbar": {
             "outlinewidth": 0,
             "ticks": ""
            },
            "colorscale": [
             [
              0,
              "#0d0887"
             ],
             [
              0.1111111111111111,
              "#46039f"
             ],
             [
              0.2222222222222222,
              "#7201a8"
             ],
             [
              0.3333333333333333,
              "#9c179e"
             ],
             [
              0.4444444444444444,
              "#bd3786"
             ],
             [
              0.5555555555555556,
              "#d8576b"
             ],
             [
              0.6666666666666666,
              "#ed7953"
             ],
             [
              0.7777777777777778,
              "#fb9f3a"
             ],
             [
              0.8888888888888888,
              "#fdca26"
             ],
             [
              1,
              "#f0f921"
             ]
            ],
            "type": "heatmapgl"
           }
          ],
          "histogram": [
           {
            "marker": {
             "pattern": {
              "fillmode": "overlay",
              "size": 10,
              "solidity": 0.2
             }
            },
            "type": "histogram"
           }
          ],
          "histogram2d": [
           {
            "colorbar": {
             "outlinewidth": 0,
             "ticks": ""
            },
            "colorscale": [
             [
              0,
              "#0d0887"
             ],
             [
              0.1111111111111111,
              "#46039f"
             ],
             [
              0.2222222222222222,
              "#7201a8"
             ],
             [
              0.3333333333333333,
              "#9c179e"
             ],
             [
              0.4444444444444444,
              "#bd3786"
             ],
             [
              0.5555555555555556,
              "#d8576b"
             ],
             [
              0.6666666666666666,
              "#ed7953"
             ],
             [
              0.7777777777777778,
              "#fb9f3a"
             ],
             [
              0.8888888888888888,
              "#fdca26"
             ],
             [
              1,
              "#f0f921"
             ]
            ],
            "type": "histogram2d"
           }
          ],
          "histogram2dcontour": [
           {
            "colorbar": {
             "outlinewidth": 0,
             "ticks": ""
            },
            "colorscale": [
             [
              0,
              "#0d0887"
             ],
             [
              0.1111111111111111,
              "#46039f"
             ],
             [
              0.2222222222222222,
              "#7201a8"
             ],
             [
              0.3333333333333333,
              "#9c179e"
             ],
             [
              0.4444444444444444,
              "#bd3786"
             ],
             [
              0.5555555555555556,
              "#d8576b"
             ],
             [
              0.6666666666666666,
              "#ed7953"
             ],
             [
              0.7777777777777778,
              "#fb9f3a"
             ],
             [
              0.8888888888888888,
              "#fdca26"
             ],
             [
              1,
              "#f0f921"
             ]
            ],
            "type": "histogram2dcontour"
           }
          ],
          "mesh3d": [
           {
            "colorbar": {
             "outlinewidth": 0,
             "ticks": ""
            },
            "type": "mesh3d"
           }
          ],
          "parcoords": [
           {
            "line": {
             "colorbar": {
              "outlinewidth": 0,
              "ticks": ""
             }
            },
            "type": "parcoords"
           }
          ],
          "pie": [
           {
            "automargin": true,
            "type": "pie"
           }
          ],
          "scatter": [
           {
            "fillpattern": {
             "fillmode": "overlay",
             "size": 10,
             "solidity": 0.2
            },
            "type": "scatter"
           }
          ],
          "scatter3d": [
           {
            "line": {
             "colorbar": {
              "outlinewidth": 0,
              "ticks": ""
             }
            },
            "marker": {
             "colorbar": {
              "outlinewidth": 0,
              "ticks": ""
             }
            },
            "type": "scatter3d"
           }
          ],
          "scattercarpet": [
           {
            "marker": {
             "colorbar": {
              "outlinewidth": 0,
              "ticks": ""
             }
            },
            "type": "scattercarpet"
           }
          ],
          "scattergeo": [
           {
            "marker": {
             "colorbar": {
              "outlinewidth": 0,
              "ticks": ""
             }
            },
            "type": "scattergeo"
           }
          ],
          "scattergl": [
           {
            "marker": {
             "colorbar": {
              "outlinewidth": 0,
              "ticks": ""
             }
            },
            "type": "scattergl"
           }
          ],
          "scattermapbox": [
           {
            "marker": {
             "colorbar": {
              "outlinewidth": 0,
              "ticks": ""
             }
            },
            "type": "scattermapbox"
           }
          ],
          "scatterpolar": [
           {
            "marker": {
             "colorbar": {
              "outlinewidth": 0,
              "ticks": ""
             }
            },
            "type": "scatterpolar"
           }
          ],
          "scatterpolargl": [
           {
            "marker": {
             "colorbar": {
              "outlinewidth": 0,
              "ticks": ""
             }
            },
            "type": "scatterpolargl"
           }
          ],
          "scatterternary": [
           {
            "marker": {
             "colorbar": {
              "outlinewidth": 0,
              "ticks": ""
             }
            },
            "type": "scatterternary"
           }
          ],
          "surface": [
           {
            "colorbar": {
             "outlinewidth": 0,
             "ticks": ""
            },
            "colorscale": [
             [
              0,
              "#0d0887"
             ],
             [
              0.1111111111111111,
              "#46039f"
             ],
             [
              0.2222222222222222,
              "#7201a8"
             ],
             [
              0.3333333333333333,
              "#9c179e"
             ],
             [
              0.4444444444444444,
              "#bd3786"
             ],
             [
              0.5555555555555556,
              "#d8576b"
             ],
             [
              0.6666666666666666,
              "#ed7953"
             ],
             [
              0.7777777777777778,
              "#fb9f3a"
             ],
             [
              0.8888888888888888,
              "#fdca26"
             ],
             [
              1,
              "#f0f921"
             ]
            ],
            "type": "surface"
           }
          ],
          "table": [
           {
            "cells": {
             "fill": {
              "color": "#EBF0F8"
             },
             "line": {
              "color": "white"
             }
            },
            "header": {
             "fill": {
              "color": "#C8D4E3"
             },
             "line": {
              "color": "white"
             }
            },
            "type": "table"
           }
          ]
         },
         "layout": {
          "annotationdefaults": {
           "arrowcolor": "#2a3f5f",
           "arrowhead": 0,
           "arrowwidth": 1
          },
          "autotypenumbers": "strict",
          "coloraxis": {
           "colorbar": {
            "outlinewidth": 0,
            "ticks": ""
           }
          },
          "colorscale": {
           "diverging": [
            [
             0,
             "#8e0152"
            ],
            [
             0.1,
             "#c51b7d"
            ],
            [
             0.2,
             "#de77ae"
            ],
            [
             0.3,
             "#f1b6da"
            ],
            [
             0.4,
             "#fde0ef"
            ],
            [
             0.5,
             "#f7f7f7"
            ],
            [
             0.6,
             "#e6f5d0"
            ],
            [
             0.7,
             "#b8e186"
            ],
            [
             0.8,
             "#7fbc41"
            ],
            [
             0.9,
             "#4d9221"
            ],
            [
             1,
             "#276419"
            ]
           ],
           "sequential": [
            [
             0,
             "#0d0887"
            ],
            [
             0.1111111111111111,
             "#46039f"
            ],
            [
             0.2222222222222222,
             "#7201a8"
            ],
            [
             0.3333333333333333,
             "#9c179e"
            ],
            [
             0.4444444444444444,
             "#bd3786"
            ],
            [
             0.5555555555555556,
             "#d8576b"
            ],
            [
             0.6666666666666666,
             "#ed7953"
            ],
            [
             0.7777777777777778,
             "#fb9f3a"
            ],
            [
             0.8888888888888888,
             "#fdca26"
            ],
            [
             1,
             "#f0f921"
            ]
           ],
           "sequentialminus": [
            [
             0,
             "#0d0887"
            ],
            [
             0.1111111111111111,
             "#46039f"
            ],
            [
             0.2222222222222222,
             "#7201a8"
            ],
            [
             0.3333333333333333,
             "#9c179e"
            ],
            [
             0.4444444444444444,
             "#bd3786"
            ],
            [
             0.5555555555555556,
             "#d8576b"
            ],
            [
             0.6666666666666666,
             "#ed7953"
            ],
            [
             0.7777777777777778,
             "#fb9f3a"
            ],
            [
             0.8888888888888888,
             "#fdca26"
            ],
            [
             1,
             "#f0f921"
            ]
           ]
          },
          "colorway": [
           "#636efa",
           "#EF553B",
           "#00cc96",
           "#ab63fa",
           "#FFA15A",
           "#19d3f3",
           "#FF6692",
           "#B6E880",
           "#FF97FF",
           "#FECB52"
          ],
          "font": {
           "color": "#2a3f5f"
          },
          "geo": {
           "bgcolor": "white",
           "lakecolor": "white",
           "landcolor": "#E5ECF6",
           "showlakes": true,
           "showland": true,
           "subunitcolor": "white"
          },
          "hoverlabel": {
           "align": "left"
          },
          "hovermode": "closest",
          "mapbox": {
           "style": "light"
          },
          "paper_bgcolor": "white",
          "plot_bgcolor": "#E5ECF6",
          "polar": {
           "angularaxis": {
            "gridcolor": "white",
            "linecolor": "white",
            "ticks": ""
           },
           "bgcolor": "#E5ECF6",
           "radialaxis": {
            "gridcolor": "white",
            "linecolor": "white",
            "ticks": ""
           }
          },
          "scene": {
           "xaxis": {
            "backgroundcolor": "#E5ECF6",
            "gridcolor": "white",
            "gridwidth": 2,
            "linecolor": "white",
            "showbackground": true,
            "ticks": "",
            "zerolinecolor": "white"
           },
           "yaxis": {
            "backgroundcolor": "#E5ECF6",
            "gridcolor": "white",
            "gridwidth": 2,
            "linecolor": "white",
            "showbackground": true,
            "ticks": "",
            "zerolinecolor": "white"
           },
           "zaxis": {
            "backgroundcolor": "#E5ECF6",
            "gridcolor": "white",
            "gridwidth": 2,
            "linecolor": "white",
            "showbackground": true,
            "ticks": "",
            "zerolinecolor": "white"
           }
          },
          "shapedefaults": {
           "line": {
            "color": "#2a3f5f"
           }
          },
          "ternary": {
           "aaxis": {
            "gridcolor": "white",
            "linecolor": "white",
            "ticks": ""
           },
           "baxis": {
            "gridcolor": "white",
            "linecolor": "white",
            "ticks": ""
           },
           "bgcolor": "#E5ECF6",
           "caxis": {
            "gridcolor": "white",
            "linecolor": "white",
            "ticks": ""
           }
          },
          "title": {
           "x": 0.05
          },
          "xaxis": {
           "automargin": true,
           "gridcolor": "white",
           "linecolor": "white",
           "ticks": "",
           "title": {
            "standoff": 15
           },
           "zerolinecolor": "white",
           "zerolinewidth": 2
          },
          "yaxis": {
           "automargin": true,
           "gridcolor": "white",
           "linecolor": "white",
           "ticks": "",
           "title": {
            "standoff": 15
           },
           "zerolinecolor": "white",
           "zerolinewidth": 2
          }
         }
        },
        "title": {
         "text": "Crimes in New York"
        },
        "treemapcolorway": [
         "rgb(103,0,31)",
         "rgb(178,24,43)",
         "rgb(214,96,77)",
         "rgb(244,165,130)",
         "rgb(253,219,199)",
         "rgb(247,247,247)",
         "rgb(209,229,240)",
         "rgb(146,197,222)",
         "rgb(67,147,195)",
         "rgb(33,102,172)",
         "rgb(5,48,97)"
        ]
       }
      }
     },
     "metadata": {},
     "output_type": "display_data"
    }
   ],
   "source": [
    "# Credit to FEDI BEN MESSAOUD: https://www.kaggle.com/code/fedi1996/boston-crime-analysis-with-plotly\n",
    "def treemap(categories,title,path,values):\n",
    "    fig = px.treemap(categories, path=path, values=values, height=700,\n",
    "                 title=title, color_discrete_sequence = px.colors.sequential.RdBu)\n",
    "    fig.data[0].textinfo = 'label+text+value'\n",
    "    fig.show()\n",
    "\n",
    "crime_count = df_['OFNS_DESC'].value_counts()\n",
    "vals = crime_count.values\n",
    "\n",
    "categories = pd.DataFrame(data= crime_count.index, columns=[\"OFNS_DESC\"])\n",
    "categories['values'] = vals\n",
    "\n",
    "treemap(categories,'Crimes in New York',['OFNS_DESC'],categories['values'])"
   ]
  },
  {
   "cell_type": "code",
   "execution_count": null,
   "metadata": {},
   "outputs": [],
   "source": []
  }
 ],
 "metadata": {
  "kernelspec": {
   "display_name": "Python 3.10.7 64-bit (microsoft store)",
   "language": "python",
   "name": "python3"
  },
  "language_info": {
   "codemirror_mode": {
    "name": "ipython",
    "version": 3
   },
   "file_extension": ".py",
   "mimetype": "text/x-python",
   "name": "python",
   "nbconvert_exporter": "python",
   "pygments_lexer": "ipython3",
   "version": "3.10.8"
  },
  "orig_nbformat": 4,
  "vscode": {
   "interpreter": {
    "hash": "a93a5bea36b3defe878d816dd7925d35ab2abd8903126becefe0d06d8deb3ff3"
   }
  }
 },
 "nbformat": 4,
 "nbformat_minor": 2
}
